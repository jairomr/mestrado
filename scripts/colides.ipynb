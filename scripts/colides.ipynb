{
 "cells": [
  {
   "cell_type": "code",
   "execution_count": 1,
   "id": "450ba2c6-5ee2-4bab-9a2e-75c8ba0c8f85",
   "metadata": {
    "tags": []
   },
   "outputs": [],
   "source": [
    "from glob import glob\n",
    "import pandas as pd\n",
    "import geopandas as gpd\n",
    "from matplotlib import pyplot as plt\n",
    "from mycolorpy import colorlist as mcp\n",
    "import contextily as cx\n",
    "from loguru import logger\n",
    "from tqdm import tqdm\n",
    "from glob import glob\n",
    "import re\n",
    "import geopandas as gpd\n",
    "import pandas as pd\n",
    "import numpy as np\n",
    "from matplotlib import pyplot as plt\n",
    "import seaborn as sns\n",
    "from unidecode import unidecode\n",
    "from rich.jupyter import print\n",
    "from rich.console import Console\n",
    "from rich.table import Table\n",
    "from pathlib import Path\n",
    "from multiprocessing import Pool\n",
    "from matplotlib.backends.backend_pdf import PdfPages\n",
    "from shapely.geometry import box\n",
    "from shapely.geometry import Polygon, MultiPolygon, shape, Point\n",
    "from matplotlib_scalebar.scalebar import ScaleBar\n",
    "files = list(Path('./').rglob('*.gpkg'))+list(Path('./').rglob('*.shp'))+list(Path('./').rglob('*.zip'))"
   ]
  },
  {
   "cell_type": "code",
   "execution_count": 2,
   "id": "620521e5-a94b-49d0-b8da-e0ec25d9dec8",
   "metadata": {},
   "outputs": [],
   "source": [
    "def bound_box_buffer(tmp_df):\n",
    "    tmp = gpd.GeoDataFrame([{'geometry':box(*tmp_df.total_bounds)}],crs=3857)\n",
    "    falta = (((5*10_000 - tmp.area) ** 0.5)/2 ) \n",
    "    if falta[0] > 0:\n",
    "        tmp = tmp.buffer(falta)\n",
    "    return tmp\n",
    "\n",
    "def normalize(s):\n",
    "    try:\n",
    "        return unidecode(s.lower()).replace('\\r','').rstrip()\n",
    "    except:\n",
    "        return s\n",
    "    \n",
    "colides_col = ['intersects', 'covers', 'within', 'touches', 'geom_equals_exact', 'error']    \n",
    "    \n",
    "def is_vazio(data):\n",
    "    if len(data) ==0:\n",
    "        return np.nan\n",
    "    return data\n",
    "\n",
    "def area_cat(area):\n",
    "    if area < 0.001:\n",
    "        return '< 0.001'\n",
    "    elif area >= 0.001 and area < 0.5:\n",
    "        return '0.001 - 0.5'\n",
    "    elif area >= 0.5 and area < 1:\n",
    "        return '0.5 - 1'\n",
    "    elif area >= 1 and area < 2:\n",
    "        return '1 - 2'\n",
    "    elif area >= 2 and area < 4:\n",
    "        return '2 - 4'\n",
    "    elif area >= 4 and area < 8:\n",
    "        return '4 - 8'\n",
    "    elif area >= 8 and area < 10:\n",
    "        return '8 - 10'\n",
    "    elif area >= 10 and area < 20:\n",
    "        return '10 - 20'\n",
    "    elif area >= 20 and area < 30:\n",
    "        return '20 - 30'\n",
    "    elif area >= 30 and area < 40:\n",
    "        return '30 - 40'\n",
    "    elif area >= 40 and area < 50:\n",
    "        return '40 - 50'\n",
    "    elif area >= 50 and area < 100:\n",
    "        return '50 - 100'\n",
    "    elif area >= 100 and area < 150:\n",
    "        return '100 - 150'\n",
    "    elif area >= 150 and area < 300:\n",
    "        return '150 - 300'\n",
    "    elif area >= 300 and area < 450:\n",
    "        return '300 - 450'\n",
    "    elif area >= 450 and area < 600:\n",
    "        return '450 - 600'\n",
    "    elif area >= 600 and area < 750:\n",
    "        return '600 - 750'\n",
    "    elif area >= 750 and area < 900:\n",
    "        return '750 - 900'\n",
    "    elif area >= 900 and area < 1000:\n",
    "        return '900 - 1000'\n",
    "    elif area >= 1000 and area < 2000:\n",
    "        return '1000 - 2000'\n",
    "    elif area > 2000:\n",
    "        return '> 2000'\n",
    "\n",
    "def get_colides_by_id(_id):\n",
    "    test = all_df[all_df['index'] != _id]\n",
    "    try:\n",
    "        return {\n",
    "            'index':_id,\n",
    "            'file':all_df.iloc[_id]['file'],\n",
    "            'intersects': is_vazio(set(test[test.intersects(all_df.iloc[_id].geometry)]['index'])),\n",
    "            'covers': is_vazio(set(test[test.covers(all_df.iloc[_id].geometry)]['index'])),\n",
    "            'within': is_vazio(set(test[test.within(all_df.iloc[_id].geometry)]['index'])),\n",
    "            'touches': is_vazio(set(test[test.touches(all_df.iloc[_id].geometry)]['index'])),\n",
    "            'geom_equals_exact': is_vazio(set(test[test.geom_equals_exact(all_df.iloc[_id].geometry,tolerance=0.00001)]['index'])),\n",
    "            'geometry':all_df.iloc[_id]['geometry']\n",
    "\n",
    "        }\n",
    "    except Exception as e:\n",
    "        return {\n",
    "            'index':_id,\n",
    "            'file':all_df.iloc[_id]['file'],\n",
    "            'geometry':all_df.iloc[_id]['geometry'],\n",
    "            'error':e\n",
    "        }    \n",
    "    \n",
    "\n",
    "    \n",
    "cat_area_name = [\n",
    "'< 0.001', '0.001 - 0.5', '0.5 - 1', '1 - 2', '2 - 4', '4 - 8', '8 - 10',\n",
    "'10 - 20', '20 - 30', '30 - 40', '40 - 50', '50 - 100', '100 - 150',\n",
    "'150 - 300', '300 - 450', '450 - 600', '600 - 750', '750 - 900', \n",
    "'900 - 1000', '1000 - 2000', '> 2000'\n",
    "]\n",
    "\n",
    "\n",
    "def convert_3D_2D(geometry):\n",
    "    '''\n",
    "    Takes a GeoSeries of 3D Multi/Polygons (has_z) and returns a list of 2D Multi/Polygons\n",
    "    '''\n",
    "    new_geo = []\n",
    "    for p in geometry:\n",
    "        if p is None:\n",
    "            new_geo.append(p)\n",
    "        elif p.has_z:\n",
    "            if p.geom_type == 'Polygon':\n",
    "                lines = [xy[:2] for xy in list(p.exterior.coords)]\n",
    "                new_p = Polygon(lines)\n",
    "                new_geo.append(new_p)\n",
    "            elif p.geom_type == 'MultiPolygon':\n",
    "                new_multi_p = []\n",
    "                #print(dir(p))\n",
    "                for ap in p.geoms:\n",
    "                    lines = [xy[:2] for xy in list(ap.exterior.coords)]\n",
    "                    new_p = Polygon(lines)\n",
    "                    new_multi_p.append(new_p)\n",
    "                new_geo.append(MultiPolygon(new_multi_p))\n",
    "            else:\n",
    "                print('ops')\n",
    "        else:\n",
    "            new_geo.append(p)\n",
    "    return new_geo\n",
    "\n",
    "area_ordenada = pd.CategoricalDtype(categories=cat_area_name, ordered=True)"
   ]
  },
  {
   "cell_type": "code",
   "execution_count": 3,
   "id": "acebb464-8b09-4777-9971-c8174f2456d1",
   "metadata": {
    "tags": []
   },
   "outputs": [],
   "source": [
    "df = gpd.read_file('Beraca (REVISAR)/beraca_restauracao.shp').to_crs(4326)\n",
    "\n"
   ]
  },
  {
   "cell_type": "code",
   "execution_count": null,
   "id": "ef9602b9-97bb-4f82-92e0-8dadab1a241c",
   "metadata": {
    "tags": []
   },
   "outputs": [],
   "source": [
    "\n"
   ]
  },
  {
   "cell_type": "code",
   "execution_count": null,
   "id": "82472772-f212-4b90-83ab-7dbc67cb91ea",
   "metadata": {},
   "outputs": [
    {
     "data": {
      "text/html": [
       "<pre style=\"white-space:pre;overflow-x:auto;line-height:normal;font-family:Menlo,'DejaVu Sans Mono',consolas,'Courier New',monospace\">calculando colisao Alianca <span style=\"font-weight: bold\">(</span>REVISAR<span style=\"font-weight: bold\">)</span><span style=\"color: #800080; text-decoration-color: #800080\">/</span><span style=\"color: #ff00ff; text-decoration-color: #ff00ff\">alianca_restauracao.shp</span>\n",
       "</pre>\n"
      ],
      "text/plain": [
       "calculando colisao Alianca \u001b[1m(\u001b[0mREVISAR\u001b[1m)\u001b[0m\u001b[35m/\u001b[0m\u001b[95malianca_restauracao.shp\u001b[0m\n"
      ]
     },
     "metadata": {},
     "output_type": "display_data"
    },
    {
     "name": "stderr",
     "output_type": "stream",
     "text": [
      "100%|██████████| 21/21 [00:00<00:00, 1352.05it/s]\n"
     ]
    },
    {
     "data": {
      "text/html": [
       "<pre style=\"white-space:pre;overflow-x:auto;line-height:normal;font-family:Menlo,'DejaVu Sans Mono',consolas,'Courier New',monospace\">geometry\n",
       "</pre>\n"
      ],
      "text/plain": [
       "geometry\n"
      ]
     },
     "metadata": {},
     "output_type": "display_data"
    },
    {
     "data": {
      "text/html": [
       "<pre style=\"white-space:pre;overflow-x:auto;line-height:normal;font-family:Menlo,'DejaVu Sans Mono',consolas,'Courier New',monospace\">calculando colisao Araticum/Araticum_ORR.shp\n",
       "</pre>\n"
      ],
      "text/plain": [
       "calculando colisao Araticum/Araticum_ORR.shp\n"
      ]
     },
     "metadata": {},
     "output_type": "display_data"
    },
    {
     "name": "stderr",
     "output_type": "stream",
     "text": [
      "100%|██████████| 135/135 [00:00<00:00, 6518.74it/s]\n"
     ]
    },
    {
     "data": {
      "text/html": [
       "<pre style=\"white-space:pre;overflow-x:auto;line-height:normal;font-family:Menlo,'DejaVu Sans Mono',consolas,'Courier New',monospace\">geometry\n",
       "</pre>\n"
      ],
      "text/plain": [
       "geometry\n"
      ]
     },
     "metadata": {},
     "output_type": "display_data"
    },
    {
     "data": {
      "text/html": [
       "<pre style=\"white-space:pre;overflow-x:auto;line-height:normal;font-family:Menlo,'DejaVu Sans Mono',consolas,'Courier New',monospace\">3d to 2d\n",
       "</pre>\n"
      ],
      "text/plain": [
       "3d to 2d\n"
      ]
     },
     "metadata": {},
     "output_type": "display_data"
    },
    {
     "data": {
      "text/html": [
       "<pre style=\"white-space:pre;overflow-x:auto;line-height:normal;font-family:Menlo,'DejaVu Sans Mono',consolas,'Courier New',monospace\">calculando colisao Beraca <span style=\"font-weight: bold\">(</span>REVISAR<span style=\"font-weight: bold\">)</span><span style=\"color: #800080; text-decoration-color: #800080\">/</span><span style=\"color: #ff00ff; text-decoration-color: #ff00ff\">beraca_restauracao.shp</span>\n",
       "</pre>\n"
      ],
      "text/plain": [
       "calculando colisao Beraca \u001b[1m(\u001b[0mREVISAR\u001b[1m)\u001b[0m\u001b[35m/\u001b[0m\u001b[95mberaca_restauracao.shp\u001b[0m\n"
      ]
     },
     "metadata": {},
     "output_type": "display_data"
    },
    {
     "name": "stderr",
     "output_type": "stream",
     "text": [
      "100%|██████████| 64/64 [00:00<00:00, 1943.24it/s]\n"
     ]
    },
    {
     "data": {
      "text/html": [
       "<pre style=\"white-space:pre;overflow-x:auto;line-height:normal;font-family:Menlo,'DejaVu Sans Mono',consolas,'Courier New',monospace\">geometry\n",
       "</pre>\n"
      ],
      "text/plain": [
       "geometry\n"
      ]
     },
     "metadata": {},
     "output_type": "display_data"
    },
    {
     "data": {
      "text/html": [
       "<pre style=\"white-space:pre;overflow-x:auto;line-height:normal;font-family:Menlo,'DejaVu Sans Mono',consolas,'Courier New',monospace\">3d to 2d\n",
       "</pre>\n"
      ],
      "text/plain": [
       "3d to 2d\n"
      ]
     },
     "metadata": {},
     "output_type": "display_data"
    },
    {
     "data": {
      "text/html": [
       "<pre style=\"white-space:pre;overflow-x:auto;line-height:normal;font-family:Menlo,'DejaVu Sans Mono',consolas,'Courier New',monospace\">calculando colisao Black Jaguar/BlackJaguar_Areas.shp\n",
       "</pre>\n"
      ],
      "text/plain": [
       "calculando colisao Black Jaguar/BlackJaguar_Areas.shp\n"
      ]
     },
     "metadata": {},
     "output_type": "display_data"
    },
    {
     "name": "stderr",
     "output_type": "stream",
     "text": [
      "100%|██████████| 236/236 [00:00<00:00, 2723.58it/s]\n"
     ]
    },
    {
     "data": {
      "text/html": [
       "<pre style=\"white-space:pre;overflow-x:auto;line-height:normal;font-family:Menlo,'DejaVu Sans Mono',consolas,'Courier New',monospace\">geometry\n",
       "</pre>\n"
      ],
      "text/plain": [
       "geometry\n"
      ]
     },
     "metadata": {},
     "output_type": "display_data"
    },
    {
     "data": {
      "text/html": [
       "<pre style=\"white-space:pre;overflow-x:auto;line-height:normal;font-family:Menlo,'DejaVu Sans Mono',consolas,'Courier New',monospace\">calculando colisao BrCarbon/EMAS_ORR.shp\n",
       "</pre>\n"
      ],
      "text/plain": [
       "calculando colisao BrCarbon/EMAS_ORR.shp\n"
      ]
     },
     "metadata": {},
     "output_type": "display_data"
    },
    {
     "name": "stderr",
     "output_type": "stream",
     "text": [
      "100%|██████████| 21/21 [00:00<00:00, 1092.02it/s]\n"
     ]
    },
    {
     "data": {
      "text/html": [
       "<pre style=\"white-space:pre;overflow-x:auto;line-height:normal;font-family:Menlo,'DejaVu Sans Mono',consolas,'Courier New',monospace\">geometry\n",
       "</pre>\n"
      ],
      "text/plain": [
       "geometry\n"
      ]
     },
     "metadata": {},
     "output_type": "display_data"
    },
    {
     "data": {
      "text/html": [
       "<pre style=\"white-space:pre;overflow-x:auto;line-height:normal;font-family:Menlo,'DejaVu Sans Mono',consolas,'Courier New',monospace\">calculando colisao BrCarbon/Pratigi_Pai1_ORR.shp\n",
       "</pre>\n"
      ],
      "text/plain": [
       "calculando colisao BrCarbon/Pratigi_Pai1_ORR.shp\n"
      ]
     },
     "metadata": {},
     "output_type": "display_data"
    },
    {
     "name": "stderr",
     "output_type": "stream",
     "text": [
      "100%|██████████| 53/53 [00:00<00:00, 1967.15it/s]\n"
     ]
    },
    {
     "data": {
      "text/html": [
       "<pre style=\"white-space:pre;overflow-x:auto;line-height:normal;font-family:Menlo,'DejaVu Sans Mono',consolas,'Courier New',monospace\">geometry\n",
       "</pre>\n"
      ],
      "text/plain": [
       "geometry\n"
      ]
     },
     "metadata": {},
     "output_type": "display_data"
    },
    {
     "data": {
      "text/html": [
       "<pre style=\"white-space:pre;overflow-x:auto;line-height:normal;font-family:Menlo,'DejaVu Sans Mono',consolas,'Courier New',monospace\">3d to 2d\n",
       "</pre>\n"
      ],
      "text/plain": [
       "3d to 2d\n"
      ]
     },
     "metadata": {},
     "output_type": "display_data"
    },
    {
     "data": {
      "text/html": [
       "<pre style=\"white-space:pre;overflow-x:auto;line-height:normal;font-family:Menlo,'DejaVu Sans Mono',consolas,'Courier New',monospace\">calculando colisao BrCarbon/Pratigi_Pai2_ORR.shp\n",
       "</pre>\n"
      ],
      "text/plain": [
       "calculando colisao BrCarbon/Pratigi_Pai2_ORR.shp\n"
      ]
     },
     "metadata": {},
     "output_type": "display_data"
    },
    {
     "name": "stderr",
     "output_type": "stream",
     "text": [
      "100%|██████████| 159/159 [00:00<00:00, 2475.91it/s]\n"
     ]
    },
    {
     "data": {
      "text/html": [
       "<pre style=\"white-space:pre;overflow-x:auto;line-height:normal;font-family:Menlo,'DejaVu Sans Mono',consolas,'Courier New',monospace\">geometry\n",
       "</pre>\n"
      ],
      "text/plain": [
       "geometry\n"
      ]
     },
     "metadata": {},
     "output_type": "display_data"
    },
    {
     "data": {
      "text/html": [
       "<pre style=\"white-space:pre;overflow-x:auto;line-height:normal;font-family:Menlo,'DejaVu Sans Mono',consolas,'Courier New',monospace\">calculando colisao CEVP/Restauracao_CEVP.shp\n",
       "</pre>\n"
      ],
      "text/plain": [
       "calculando colisao CEVP/Restauracao_CEVP.shp\n"
      ]
     },
     "metadata": {},
     "output_type": "display_data"
    },
    {
     "name": "stderr",
     "output_type": "stream",
     "text": [
      "100%|██████████| 333/333 [00:00<00:00, 2855.50it/s]\n"
     ]
    },
    {
     "data": {
      "text/html": [
       "<pre style=\"white-space:pre;overflow-x:auto;line-height:normal;font-family:Menlo,'DejaVu Sans Mono',consolas,'Courier New',monospace\">geometry\n",
       "</pre>\n"
      ],
      "text/plain": [
       "geometry\n"
      ]
     },
     "metadata": {},
     "output_type": "display_data"
    },
    {
     "data": {
      "text/html": [
       "<pre style=\"white-space:pre;overflow-x:auto;line-height:normal;font-family:Menlo,'DejaVu Sans Mono',consolas,'Courier New',monospace\">3d to 2d\n",
       "</pre>\n"
      ],
      "text/plain": [
       "3d to 2d\n"
      ]
     },
     "metadata": {},
     "output_type": "display_data"
    },
    {
     "data": {
      "text/html": [
       "<pre style=\"white-space:pre;overflow-x:auto;line-height:normal;font-family:Menlo,'DejaVu Sans Mono',consolas,'Courier New',monospace\">calculando colisao ECOPORE/FLONA BOM FUTURO/FLONA-Bom_Futuro.shp\n",
       "</pre>\n"
      ],
      "text/plain": [
       "calculando colisao ECOPORE/FLONA BOM FUTURO/FLONA-Bom_Futuro.shp\n"
      ]
     },
     "metadata": {},
     "output_type": "display_data"
    },
    {
     "name": "stderr",
     "output_type": "stream",
     "text": [
      "100%|██████████| 3/3 [00:00<00:00, 345.83it/s]\n",
      ") missing from current font.0432.py:120: UserWarning: Glyph 13 (\n",
      "  pdf.savefig(fig, bbox_inches='tight')\n"
     ]
    },
    {
     "data": {
      "text/html": [
       "<pre style=\"white-space:pre;overflow-x:auto;line-height:normal;font-family:Menlo,'DejaVu Sans Mono',consolas,'Courier New',monospace\">geometry\n",
       "</pre>\n"
      ],
      "text/plain": [
       "geometry\n"
      ]
     },
     "metadata": {},
     "output_type": "display_data"
    },
    {
     "data": {
      "text/html": [
       "<pre style=\"white-space:pre;overflow-x:auto;line-height:normal;font-family:Menlo,'DejaVu Sans Mono',consolas,'Courier New',monospace\">3d to 2d\n",
       "</pre>\n"
      ],
      "text/plain": [
       "3d to 2d\n"
      ]
     },
     "metadata": {},
     "output_type": "display_data"
    },
    {
     "data": {
      "text/html": [
       "<pre style=\"white-space:pre;overflow-x:auto;line-height:normal;font-family:Menlo,'DejaVu Sans Mono',consolas,'Courier New',monospace\">calculando colisao ECOPORE/NFNC/Todos_Poligonos_NFNC.shp\n",
       "</pre>\n"
      ],
      "text/plain": [
       "calculando colisao ECOPORE/NFNC/Todos_Poligonos_NFNC.shp\n"
      ]
     },
     "metadata": {},
     "output_type": "display_data"
    },
    {
     "name": "stderr",
     "output_type": "stream",
     "text": [
      "100%|██████████| 422/422 [00:00<00:00, 2970.78it/s]\n"
     ]
    },
    {
     "data": {
      "text/html": [
       "<pre style=\"white-space:pre;overflow-x:auto;line-height:normal;font-family:Menlo,'DejaVu Sans Mono',consolas,'Courier New',monospace\">geometry\n",
       "</pre>\n"
      ],
      "text/plain": [
       "geometry\n"
      ]
     },
     "metadata": {},
     "output_type": "display_data"
    },
    {
     "data": {
      "text/html": [
       "<pre style=\"white-space:pre;overflow-x:auto;line-height:normal;font-family:Menlo,'DejaVu Sans Mono',consolas,'Courier New',monospace\">3d to 2d\n",
       "</pre>\n"
      ],
      "text/plain": [
       "3d to 2d\n"
      ]
     },
     "metadata": {},
     "output_type": "display_data"
    },
    {
     "data": {
      "text/html": [
       "<pre style=\"white-space:pre;overflow-x:auto;line-height:normal;font-family:Menlo,'DejaVu Sans Mono',consolas,'Courier New',monospace\">calculando colisao ECOPORE/Viveiro Cidadão <span style=\"color: #008080; text-decoration-color: #008080; font-weight: bold\">2019</span>/16_RADS_JOVENS_VIVEIRO_CIDADAO.shp\n",
       "</pre>\n"
      ],
      "text/plain": [
       "calculando colisao ECOPORE/Viveiro Cidadão \u001b[1;36m2019\u001b[0m/16_RADS_JOVENS_VIVEIRO_CIDADAO.shp\n"
      ]
     },
     "metadata": {},
     "output_type": "display_data"
    },
    {
     "name": "stderr",
     "output_type": "stream",
     "text": [
      "100%|██████████| 21/21 [00:00<00:00, 1108.42it/s]\n"
     ]
    },
    {
     "data": {
      "text/html": [
       "<pre style=\"white-space:pre;overflow-x:auto;line-height:normal;font-family:Menlo,'DejaVu Sans Mono',consolas,'Courier New',monospace\">geometry\n",
       "</pre>\n"
      ],
      "text/plain": [
       "geometry\n"
      ]
     },
     "metadata": {},
     "output_type": "display_data"
    },
    {
     "data": {
      "text/html": [
       "<pre style=\"white-space:pre;overflow-x:auto;line-height:normal;font-family:Menlo,'DejaVu Sans Mono',consolas,'Courier New',monospace\">3d to 2d\n",
       "</pre>\n"
      ],
      "text/plain": [
       "3d to 2d\n"
      ]
     },
     "metadata": {},
     "output_type": "display_data"
    },
    {
     "data": {
      "text/html": [
       "<pre style=\"white-space:pre;overflow-x:auto;line-height:normal;font-family:Menlo,'DejaVu Sans Mono',consolas,'Courier New',monospace\">calculando colisao ECOPORE/Viveiro Cidadão <span style=\"color: #008080; text-decoration-color: #008080; font-weight: bold\">2019</span>/Poligonos_119_RAD_VIVEIRO_CIDADAO.shp\n",
       "</pre>\n"
      ],
      "text/plain": [
       "calculando colisao ECOPORE/Viveiro Cidadão \u001b[1;36m2019\u001b[0m/Poligonos_119_RAD_VIVEIRO_CIDADAO.shp\n"
      ]
     },
     "metadata": {},
     "output_type": "display_data"
    },
    {
     "name": "stderr",
     "output_type": "stream",
     "text": [
      "100%|██████████| 181/181 [00:00<00:00, 2725.44it/s]\n"
     ]
    },
    {
     "data": {
      "text/html": [
       "<pre style=\"white-space:pre;overflow-x:auto;line-height:normal;font-family:Menlo,'DejaVu Sans Mono',consolas,'Courier New',monospace\">geometry\n",
       "</pre>\n"
      ],
      "text/plain": [
       "geometry\n"
      ]
     },
     "metadata": {},
     "output_type": "display_data"
    },
    {
     "data": {
      "text/html": [
       "<pre style=\"white-space:pre;overflow-x:auto;line-height:normal;font-family:Menlo,'DejaVu Sans Mono',consolas,'Courier New',monospace\">3d to 2d\n",
       "</pre>\n"
      ],
      "text/plain": [
       "3d to 2d\n"
      ]
     },
     "metadata": {},
     "output_type": "display_data"
    },
    {
     "data": {
      "text/html": [
       "<pre style=\"white-space:pre;overflow-x:auto;line-height:normal;font-family:Menlo,'DejaVu Sans Mono',consolas,'Courier New',monospace\">calculando colisao EDEN/EDEN_RESTAURAÇÃO.shp\n",
       "</pre>\n"
      ],
      "text/plain": [
       "calculando colisao EDEN/EDEN_RESTAURAÇÃO.shp\n"
      ]
     },
     "metadata": {},
     "output_type": "display_data"
    },
    {
     "name": "stderr",
     "output_type": "stream",
     "text": [
      "100%|██████████| 13/13 [00:00<00:00, 805.24it/s]\n",
      ") missing from current font.0432.py:120: UserWarning: Glyph 13 (\n",
      "  pdf.savefig(fig, bbox_inches='tight')\n"
     ]
    },
    {
     "data": {
      "text/html": [
       "<pre style=\"white-space:pre;overflow-x:auto;line-height:normal;font-family:Menlo,'DejaVu Sans Mono',consolas,'Courier New',monospace\">geometry\n",
       "</pre>\n"
      ],
      "text/plain": [
       "geometry\n"
      ]
     },
     "metadata": {},
     "output_type": "display_data"
    },
    {
     "data": {
      "text/html": [
       "<pre style=\"white-space:pre;overflow-x:auto;line-height:normal;font-family:Menlo,'DejaVu Sans Mono',consolas,'Courier New',monospace\">calculando colisao ICRAF <span style=\"font-weight: bold\">(</span>REVISAR<span style=\"font-weight: bold\">)</span><span style=\"color: #800080; text-decoration-color: #800080\">/</span><span style=\"color: #ff00ff; text-decoration-color: #ff00ff\">ICRAF_AREAS.shp</span>\n",
       "</pre>\n"
      ],
      "text/plain": [
       "calculando colisao ICRAF \u001b[1m(\u001b[0mREVISAR\u001b[1m)\u001b[0m\u001b[35m/\u001b[0m\u001b[95mICRAF_AREAS.shp\u001b[0m\n"
      ]
     },
     "metadata": {},
     "output_type": "display_data"
    },
    {
     "name": "stderr",
     "output_type": "stream",
     "text": [
      "100%|██████████| 15/15 [00:00<00:00, 1851.90it/s]\n",
      ") missing from current font.0432.py:120: UserWarning: Glyph 13 (\n",
      "  pdf.savefig(fig, bbox_inches='tight')\n",
      ") missing from current font.0432.py:120: UserWarning: Glyph 13 (\n",
      "  pdf.savefig(fig, bbox_inches='tight')\n",
      ") missing from current font.0432.py:120: UserWarning: Glyph 13 (\n",
      "  pdf.savefig(fig, bbox_inches='tight')\n"
     ]
    },
    {
     "data": {
      "text/html": [
       "<pre style=\"white-space:pre;overflow-x:auto;line-height:normal;font-family:Menlo,'DejaVu Sans Mono',consolas,'Courier New',monospace\">geometry\n",
       "</pre>\n"
      ],
      "text/plain": [
       "geometry\n"
      ]
     },
     "metadata": {},
     "output_type": "display_data"
    },
    {
     "data": {
      "text/html": [
       "<pre style=\"white-space:pre;overflow-x:auto;line-height:normal;font-family:Menlo,'DejaVu Sans Mono',consolas,'Courier New',monospace\">calculando colisao ICV/ICV_restauracao.shp\n",
       "</pre>\n"
      ],
      "text/plain": [
       "calculando colisao ICV/ICV_restauracao.shp\n"
      ]
     },
     "metadata": {},
     "output_type": "display_data"
    },
    {
     "name": "stderr",
     "output_type": "stream",
     "text": [
      "100%|██████████| 580/580 [00:00<00:00, 2710.99it/s]\n"
     ]
    },
    {
     "data": {
      "text/html": [
       "<pre style=\"white-space:pre;overflow-x:auto;line-height:normal;font-family:Menlo,'DejaVu Sans Mono',consolas,'Courier New',monospace\">geometry\n",
       "</pre>\n"
      ],
      "text/plain": [
       "geometry\n"
      ]
     },
     "metadata": {},
     "output_type": "display_data"
    },
    {
     "data": {
      "text/html": [
       "<pre style=\"white-space:pre;overflow-x:auto;line-height:normal;font-family:Menlo,'DejaVu Sans Mono',consolas,'Courier New',monospace\">calculando colisao IPE <span style=\"font-weight: bold\">(</span>revisar<span style=\"font-weight: bold\">)</span><span style=\"color: #800080; text-decoration-color: #800080\">/</span><span style=\"color: #ff00ff; text-decoration-color: #ff00ff\">Ipe_ORR.shp</span>\n",
       "</pre>\n"
      ],
      "text/plain": [
       "calculando colisao IPE \u001b[1m(\u001b[0mrevisar\u001b[1m)\u001b[0m\u001b[35m/\u001b[0m\u001b[95mIpe_ORR.shp\u001b[0m\n"
      ]
     },
     "metadata": {},
     "output_type": "display_data"
    },
    {
     "name": "stderr",
     "output_type": "stream",
     "text": [
      "100%|██████████| 38/38 [00:00<00:00, 1805.82it/s]\n"
     ]
    },
    {
     "data": {
      "text/html": [
       "<pre style=\"white-space:pre;overflow-x:auto;line-height:normal;font-family:Menlo,'DejaVu Sans Mono',consolas,'Courier New',monospace\">geometry\n",
       "</pre>\n"
      ],
      "text/plain": [
       "geometry\n"
      ]
     },
     "metadata": {},
     "output_type": "display_data"
    },
    {
     "data": {
      "text/html": [
       "<pre style=\"white-space:pre;overflow-x:auto;line-height:normal;font-family:Menlo,'DejaVu Sans Mono',consolas,'Courier New',monospace\">calculando colisao Imazon_saf_rna/ORR_Imazon.shp\n",
       "</pre>\n"
      ],
      "text/plain": [
       "calculando colisao Imazon_saf_rna/ORR_Imazon.shp\n"
      ]
     },
     "metadata": {},
     "output_type": "display_data"
    },
    {
     "name": "stderr",
     "output_type": "stream",
     "text": [
      "100%|██████████| 375/375 [00:00<00:00, 2833.42it/s]\n"
     ]
    },
    {
     "data": {
      "text/html": [
       "<pre style=\"white-space:pre;overflow-x:auto;line-height:normal;font-family:Menlo,'DejaVu Sans Mono',consolas,'Courier New',monospace\">geometry\n",
       "</pre>\n"
      ],
      "text/plain": [
       "geometry\n"
      ]
     },
     "metadata": {},
     "output_type": "display_data"
    },
    {
     "data": {
      "text/html": [
       "<pre style=\"white-space:pre;overflow-x:auto;line-height:normal;font-family:Menlo,'DejaVu Sans Mono',consolas,'Courier New',monospace\">calculando colisao ORR_area_regreen/MA_PAI_001.shp\n",
       "</pre>\n"
      ],
      "text/plain": [
       "calculando colisao ORR_area_regreen/MA_PAI_001.shp\n"
      ]
     },
     "metadata": {},
     "output_type": "display_data"
    },
    {
     "name": "stderr",
     "output_type": "stream",
     "text": [
      "100%|██████████| 128/128 [00:00<00:00, 2525.32it/s]\n"
     ]
    },
    {
     "data": {
      "text/html": [
       "<pre style=\"white-space:pre;overflow-x:auto;line-height:normal;font-family:Menlo,'DejaVu Sans Mono',consolas,'Courier New',monospace\">geometry\n",
       "</pre>\n"
      ],
      "text/plain": [
       "geometry\n"
      ]
     },
     "metadata": {},
     "output_type": "display_data"
    },
    {
     "data": {
      "text/html": [
       "<pre style=\"white-space:pre;overflow-x:auto;line-height:normal;font-family:Menlo,'DejaVu Sans Mono',consolas,'Courier New',monospace\">calculando colisao ORR_area_regreen/MA_PAI_002.shp\n",
       "</pre>\n"
      ],
      "text/plain": [
       "calculando colisao ORR_area_regreen/MA_PAI_002.shp\n"
      ]
     },
     "metadata": {},
     "output_type": "display_data"
    },
    {
     "name": "stderr",
     "output_type": "stream",
     "text": [
      "100%|██████████| 197/197 [00:00<00:00, 321.05it/s]\n"
     ]
    },
    {
     "data": {
      "text/html": [
       "<pre style=\"white-space:pre;overflow-x:auto;line-height:normal;font-family:Menlo,'DejaVu Sans Mono',consolas,'Courier New',monospace\">geometry\n",
       "</pre>\n"
      ],
      "text/plain": [
       "geometry\n"
      ]
     },
     "metadata": {},
     "output_type": "display_data"
    },
    {
     "data": {
      "text/html": [
       "<pre style=\"white-space:pre;overflow-x:auto;line-height:normal;font-family:Menlo,'DejaVu Sans Mono',consolas,'Courier New',monospace\">3d to 2d\n",
       "</pre>\n"
      ],
      "text/plain": [
       "3d to 2d\n"
      ]
     },
     "metadata": {},
     "output_type": "display_data"
    },
    {
     "data": {
      "text/html": [
       "<pre style=\"white-space:pre;overflow-x:auto;line-height:normal;font-family:Menlo,'DejaVu Sans Mono',consolas,'Courier New',monospace\">calculando colisao Projetos Kanindé <span style=\"font-weight: bold\">(</span>Revisar ORR<span style=\"font-weight: bold\">)</span><span style=\"color: #800080; text-decoration-color: #800080\">/</span><span style=\"color: #ff00ff; text-decoration-color: #ff00ff\">Dados</span> recebidos/INICIATIVAS_EXECUTADAS_PELA_AGROFLORA.shp\n",
       "</pre>\n"
      ],
      "text/plain": [
       "calculando colisao Projetos Kanindé \u001b[1m(\u001b[0mRevisar ORR\u001b[1m)\u001b[0m\u001b[35m/\u001b[0m\u001b[95mDados\u001b[0m recebidos/INICIATIVAS_EXECUTADAS_PELA_AGROFLORA.shp\n"
      ]
     },
     "metadata": {},
     "output_type": "display_data"
    },
    {
     "name": "stderr",
     "output_type": "stream",
     "text": [
      "100%|██████████| 6/6 [00:00<00:00, 466.37it/s]\n"
     ]
    },
    {
     "data": {
      "text/html": [
       "<pre style=\"white-space:pre;overflow-x:auto;line-height:normal;font-family:Menlo,'DejaVu Sans Mono',consolas,'Courier New',monospace\">geometry\n",
       "</pre>\n"
      ],
      "text/plain": [
       "geometry\n"
      ]
     },
     "metadata": {},
     "output_type": "display_data"
    },
    {
     "data": {
      "text/html": [
       "<pre style=\"white-space:pre;overflow-x:auto;line-height:normal;font-family:Menlo,'DejaVu Sans Mono',consolas,'Courier New',monospace\">3d to 2d\n",
       "</pre>\n"
      ],
      "text/plain": [
       "3d to 2d\n"
      ]
     },
     "metadata": {},
     "output_type": "display_data"
    },
    {
     "data": {
      "text/html": [
       "<pre style=\"white-space:pre;overflow-x:auto;line-height:normal;font-family:Menlo,'DejaVu Sans Mono',consolas,'Courier New',monospace\">calculando colisao Projetos Kanindé <span style=\"font-weight: bold\">(</span>Revisar ORR<span style=\"font-weight: bold\">)</span><span style=\"color: #800080; text-decoration-color: #800080\">/Final/</span><span style=\"color: #ff00ff; text-decoration-color: #ff00ff\">AGF</span> Kaninde pol final.shp\n",
       "</pre>\n"
      ],
      "text/plain": [
       "calculando colisao Projetos Kanindé \u001b[1m(\u001b[0mRevisar ORR\u001b[1m)\u001b[0m\u001b[35m/Final/\u001b[0m\u001b[95mAGF\u001b[0m Kaninde pol final.shp\n"
      ]
     },
     "metadata": {},
     "output_type": "display_data"
    },
    {
     "name": "stderr",
     "output_type": "stream",
     "text": [
      "100%|██████████| 6/6 [00:00<00:00, 538.08it/s]\n"
     ]
    },
    {
     "data": {
      "text/html": [
       "<pre style=\"white-space:pre;overflow-x:auto;line-height:normal;font-family:Menlo,'DejaVu Sans Mono',consolas,'Courier New',monospace\">geometry\n",
       "</pre>\n"
      ],
      "text/plain": [
       "geometry\n"
      ]
     },
     "metadata": {},
     "output_type": "display_data"
    },
    {
     "name": "stderr",
     "output_type": "stream",
     "text": [
      "\u001b[32m2024-04-25 20:22:31.405\u001b[0m | \u001b[31m\u001b[1mERROR   \u001b[0m | \u001b[36m__main__\u001b[0m:\u001b[36m<module>\u001b[0m:\u001b[36m164\u001b[0m - \u001b[31m\u001b[1m'utf-8' codec can't decode byte 0xe2 in position 9: unexpected end of data\u001b[0m\n",
      "\u001b[33m\u001b[1mTraceback (most recent call last):\u001b[0m\n",
      "\n",
      "  File \"<frozen runpy>\", line 198, in _run_module_as_main\n",
      "  File \"<frozen runpy>\", line 88, in _run_code\n",
      "  File \"/opt/conda/lib/python3.11/site-packages/ipykernel_launcher.py\", line 18, in <module>\n",
      "    app.launch_new_instance()\n",
      "    │   └ <bound method Application.launch_instance of <class 'ipykernel.kernelapp.IPKernelApp'>>\n",
      "    └ <module 'ipykernel.kernelapp' from '/opt/conda/lib/python3.11/site-packages/ipykernel/kernelapp.py'>\n",
      "  File \"/opt/conda/lib/python3.11/site-packages/traitlets/config/application.py\", line 1075, in launch_instance\n",
      "    app.start()\n",
      "    │   └ <function IPKernelApp.start at 0x7fb9a1ac32e0>\n",
      "    └ <ipykernel.kernelapp.IPKernelApp object at 0x7fb9a4a08b50>\n",
      "  File \"/opt/conda/lib/python3.11/site-packages/ipykernel/kernelapp.py\", line 739, in start\n",
      "    self.io_loop.start()\n",
      "    │    │       └ <function BaseAsyncIOLoop.start at 0x7fb9a352b740>\n",
      "    │    └ <tornado.platform.asyncio.AsyncIOMainLoop object at 0x7fb9a1ae6ed0>\n",
      "    └ <ipykernel.kernelapp.IPKernelApp object at 0x7fb9a4a08b50>\n",
      "  File \"/opt/conda/lib/python3.11/site-packages/tornado/platform/asyncio.py\", line 205, in start\n",
      "    self.asyncio_loop.run_forever()\n",
      "    │    │            └ <function BaseEventLoop.run_forever at 0x7fb9a3e85d00>\n",
      "    │    └ <_UnixSelectorEventLoop running=True closed=False debug=False>\n",
      "    └ <tornado.platform.asyncio.AsyncIOMainLoop object at 0x7fb9a1ae6ed0>\n",
      "  File \"/opt/conda/lib/python3.11/asyncio/base_events.py\", line 608, in run_forever\n",
      "    self._run_once()\n",
      "    │    └ <function BaseEventLoop._run_once at 0x7fb9a3e87b00>\n",
      "    └ <_UnixSelectorEventLoop running=True closed=False debug=False>\n",
      "  File \"/opt/conda/lib/python3.11/asyncio/base_events.py\", line 1936, in _run_once\n",
      "    handle._run()\n",
      "    │      └ <function Handle._run at 0x7fb9a46d4ae0>\n",
      "    └ <Handle Task.task_wakeup(<Future finis...cd0>, ...],))>)>\n",
      "  File \"/opt/conda/lib/python3.11/asyncio/events.py\", line 84, in _run\n",
      "    self._context.run(self._callback, *self._args)\n",
      "    │    │            │    │           │    └ <member '_args' of 'Handle' objects>\n",
      "    │    │            │    │           └ <Handle Task.task_wakeup(<Future finis...cd0>, ...],))>)>\n",
      "    │    │            │    └ <member '_callback' of 'Handle' objects>\n",
      "    │    │            └ <Handle Task.task_wakeup(<Future finis...cd0>, ...],))>)>\n",
      "    │    └ <member '_context' of 'Handle' objects>\n",
      "    └ <Handle Task.task_wakeup(<Future finis...cd0>, ...],))>)>\n",
      "  File \"/opt/conda/lib/python3.11/site-packages/ipykernel/kernelbase.py\", line 545, in dispatch_queue\n",
      "    await self.process_one()\n",
      "          │    └ <function Kernel.process_one at 0x7fb9a214f380>\n",
      "          └ <ipykernel.ipkernel.IPythonKernel object at 0x7fb9a1addd90>\n",
      "  File \"/opt/conda/lib/python3.11/site-packages/ipykernel/kernelbase.py\", line 534, in process_one\n",
      "    await dispatch(*args)\n",
      "          │         └ ([<zmq.sugar.frame.Frame object at 0x7fb9a1a9aed0>, <zmq.sugar.frame.Frame object at 0x7fb9a1a9a390>, <zmq.sugar.frame.Frame ...\n",
      "          └ <bound method Kernel.dispatch_shell of <ipykernel.ipkernel.IPythonKernel object at 0x7fb9a1addd90>>\n",
      "  File \"/opt/conda/lib/python3.11/site-packages/ipykernel/kernelbase.py\", line 437, in dispatch_shell\n",
      "    await result\n",
      "          └ <coroutine object IPythonKernel.execute_request at 0x7fb8d8045040>\n",
      "  File \"/opt/conda/lib/python3.11/site-packages/ipykernel/ipkernel.py\", line 359, in execute_request\n",
      "    await super().execute_request(stream, ident, parent)\n",
      "                                  │       │      └ {'header': {'date': datetime.datetime(2024, 4, 25, 23, 18, 3, 393000, tzinfo=tzutc()), 'msg_id': 'c85b8a07-3f3b-4d53-9b56-1b9...\n",
      "                                  │       └ [b'd74f3dec-19c4-4c01-a3b5-044259a5f95f']\n",
      "                                  └ <zmq.eventloop.zmqstream.ZMQStream object at 0x7fb9a1ae6b90>\n",
      "  File \"/opt/conda/lib/python3.11/site-packages/ipykernel/kernelbase.py\", line 778, in execute_request\n",
      "    reply_content = await reply_content\n",
      "                          └ <coroutine object IPythonKernel.do_execute at 0x7fb8d8104e50>\n",
      "  File \"/opt/conda/lib/python3.11/site-packages/ipykernel/ipkernel.py\", line 446, in do_execute\n",
      "    res = shell.run_cell(\n",
      "          │     └ <function ZMQInteractiveShell.run_cell at 0x7fb9a1ac04a0>\n",
      "          └ <ipykernel.zmqshell.ZMQInteractiveShell object at 0x7fb9a1add650>\n",
      "  File \"/opt/conda/lib/python3.11/site-packages/ipykernel/zmqshell.py\", line 549, in run_cell\n",
      "    return super().run_cell(*args, **kwargs)\n",
      "                             │       └ {'store_history': True, 'silent': False, 'cell_id': '82472772-f212-4b90-83ab-7dbc67cb91ea'}\n",
      "                             └ ('metadata = []\\ngeo_data = []\\nfor file in sorted(files):\\n    try:\\n        tmp = gpd.read_file(file)\\n        _metadata = ...\n",
      "  File \"/opt/conda/lib/python3.11/site-packages/IPython/core/interactiveshell.py\", line 3075, in run_cell\n",
      "    result = self._run_cell(\n",
      "             │    └ <function InteractiveShell._run_cell at 0x7fb9a2e02de0>\n",
      "             └ <ipykernel.zmqshell.ZMQInteractiveShell object at 0x7fb9a1add650>\n",
      "  File \"/opt/conda/lib/python3.11/site-packages/IPython/core/interactiveshell.py\", line 3130, in _run_cell\n",
      "    result = runner(coro)\n",
      "             │      └ <coroutine object InteractiveShell.run_cell_async at 0x7fb9a1cfe260>\n",
      "             └ <function _pseudo_sync_runner at 0x7fb9a2df1f80>\n",
      "  File \"/opt/conda/lib/python3.11/site-packages/IPython/core/async_helpers.py\", line 129, in _pseudo_sync_runner\n",
      "    coro.send(None)\n",
      "    │    └ <method 'send' of 'coroutine' objects>\n",
      "    └ <coroutine object InteractiveShell.run_cell_async at 0x7fb9a1cfe260>\n",
      "  File \"/opt/conda/lib/python3.11/site-packages/IPython/core/interactiveshell.py\", line 3334, in run_cell_async\n",
      "    has_raised = await self.run_ast_nodes(code_ast.body, cell_name,\n",
      "                       │    │             │        │     └ '/tmp/ipykernel_2917302/410910432.py'\n",
      "                       │    │             │        └ [<ast.Assign object at 0x7fb8d7dfffa0>, <ast.Assign object at 0x7fb8d7dfff10>, <ast.For object at 0x7fb8d7dffe80>]\n",
      "                       │    │             └ <ast.Module object at 0x7fb8d7dfffd0>\n",
      "                       │    └ <function InteractiveShell.run_ast_nodes at 0x7fb9a2e03100>\n",
      "                       └ <ipykernel.zmqshell.ZMQInteractiveShell object at 0x7fb9a1add650>\n",
      "  File \"/opt/conda/lib/python3.11/site-packages/IPython/core/interactiveshell.py\", line 3517, in run_ast_nodes\n",
      "    if await self.run_code(code, result, async_=asy):\n",
      "             │    │        │     │              └ False\n",
      "             │    │        │     └ <ExecutionResult object at 7fb9a1ac4e90, execution_count=4 error_before_exec=None error_in_exec=None info=<ExecutionInfo obje...\n",
      "             │    │        └ <code object <module> at 0x55c43da002c0, file \"/tmp/ipykernel_2917302/410910432.py\", line 1>\n",
      "             │    └ <function InteractiveShell.run_code at 0x7fb9a2e031a0>\n",
      "             └ <ipykernel.zmqshell.ZMQInteractiveShell object at 0x7fb9a1add650>\n",
      "  File \"/opt/conda/lib/python3.11/site-packages/IPython/core/interactiveshell.py\", line 3577, in run_code\n",
      "    exec(code_obj, self.user_global_ns, self.user_ns)\n",
      "         │         │    │               │    └ {'__name__': '__main__', '__doc__': 'Automatically created module for IPython interactive environment', '__package__': None, ...\n",
      "         │         │    │               └ <ipykernel.zmqshell.ZMQInteractiveShell object at 0x7fb9a1add650>\n",
      "         │         │    └ <property object at 0x7fb9a2df8db0>\n",
      "         │         └ <ipykernel.zmqshell.ZMQInteractiveShell object at 0x7fb9a1add650>\n",
      "         └ <code object <module> at 0x55c43da002c0, file \"/tmp/ipykernel_2917302/410910432.py\", line 1>\n",
      "\n",
      "> File \"\u001b[32m/tmp/ipykernel_2917302/\u001b[0m\u001b[32m\u001b[1m410910432.py\u001b[0m\", line \u001b[33m5\u001b[0m, in \u001b[35m<module>\u001b[0m\n",
      "    \u001b[1mtmp\u001b[0m \u001b[35m\u001b[1m=\u001b[0m \u001b[1mgpd\u001b[0m\u001b[35m\u001b[1m.\u001b[0m\u001b[1mread_file\u001b[0m\u001b[1m(\u001b[0m\u001b[1mfile\u001b[0m\u001b[1m)\u001b[0m\n",
      "    \u001b[36m      │   │         └ \u001b[0m\u001b[36m\u001b[1mPosixPath('Projetos Kanindé (Revisar ORR)/kaninde_areas_atualizadas.shp')\u001b[0m\n",
      "    \u001b[36m      │   └ \u001b[0m\u001b[36m\u001b[1m<function _read_file at 0x7fb8e4e376a0>\u001b[0m\n",
      "    \u001b[36m      └ \u001b[0m\u001b[36m\u001b[1m<module 'geopandas' from '/opt/conda/lib/python3.11/site-packages/geopandas/__init__.py'>\u001b[0m\n",
      "\n",
      "  File \"/opt/conda/lib/python3.11/site-packages/geopandas/io/file.py\", line 297, in _read_file\n",
      "    return _read_file_fiona(\n",
      "           └ <function _read_file_fiona at 0x7fb8e4e37740>\n",
      "  File \"/opt/conda/lib/python3.11/site-packages/geopandas/io/file.py\", line 386, in _read_file_fiona\n",
      "    columns = list(features.schema[\"properties\"])\n",
      "                   │        └ <property object at 0x7fb8d80d4090>\n",
      "                   └ <closed Collection 'Projetos Kanindé (Revisar ORR)/kaninde_areas_atualizadas.shp:kaninde_areas_atualizadas', mode 'r' at 0x7f...\n",
      "  File \"/opt/conda/lib/python3.11/site-packages/fiona/collection.py\", line 293, in schema\n",
      "    self._schema = self.session.get_schema()\n",
      "    │    │         │    └ None\n",
      "    │    │         └ <closed Collection 'Projetos Kanindé (Revisar ORR)/kaninde_areas_atualizadas.shp:kaninde_areas_atualizadas', mode 'r' at 0x7f...\n",
      "    │    └ None\n",
      "    └ <closed Collection 'Projetos Kanindé (Revisar ORR)/kaninde_areas_atualizadas.shp:kaninde_areas_atualizadas', mode 'r' at 0x7f...\n",
      "  File \"fiona/ogrext.pyx\", line 761, in fiona.ogrext.Session.get_schema\n",
      "\n",
      "\u001b[31m\u001b[1mUnicodeDecodeError\u001b[0m:\u001b[1m 'utf-8' codec can't decode byte 0xe2 in position 9: unexpected end of data\u001b[0m\n"
     ]
    },
    {
     "data": {
      "text/html": [
       "<pre style=\"white-space:pre;overflow-x:auto;line-height:normal;font-family:Menlo,'DejaVu Sans Mono',consolas,'Courier New',monospace\">calculando colisao Reflorestar/Programa Reflorestar/Bacia do Doce.zip\n",
       "</pre>\n"
      ],
      "text/plain": [
       "calculando colisao Reflorestar/Programa Reflorestar/Bacia do Doce.zip\n"
      ]
     },
     "metadata": {},
     "output_type": "display_data"
    },
    {
     "name": "stderr",
     "output_type": "stream",
     "text": [
      "100%|██████████| 3066/3066 [00:01<00:00, 1812.76it/s]\n"
     ]
    },
    {
     "data": {
      "text/html": [
       "<pre style=\"white-space:pre;overflow-x:auto;line-height:normal;font-family:Menlo,'DejaVu Sans Mono',consolas,'Courier New',monospace\">geometry\n",
       "</pre>\n"
      ],
      "text/plain": [
       "geometry\n"
      ]
     },
     "metadata": {},
     "output_type": "display_data"
    },
    {
     "data": {
      "text/html": [
       "<pre style=\"white-space:pre;overflow-x:auto;line-height:normal;font-family:Menlo,'DejaVu Sans Mono',consolas,'Courier New',monospace\">calculando colisao Reflorestar/Programa Reflorestar/Extenção Ambiental.zip\n",
       "</pre>\n"
      ],
      "text/plain": [
       "calculando colisao Reflorestar/Programa Reflorestar/Extenção Ambiental.zip\n"
      ]
     },
     "metadata": {},
     "output_type": "display_data"
    },
    {
     "name": "stderr",
     "output_type": "stream",
     "text": [
      "100%|██████████| 1194/1194 [00:00<00:00, 2499.12it/s]\n",
      ") missing from current font.0432.py:120: UserWarning: Glyph 13 (\n",
      "  pdf.savefig(fig, bbox_inches='tight')\n",
      ") missing from current font.0432.py:120: UserWarning: Glyph 13 (\n",
      "  pdf.savefig(fig, bbox_inches='tight')\n"
     ]
    },
    {
     "data": {
      "text/html": [
       "<pre style=\"white-space:pre;overflow-x:auto;line-height:normal;font-family:Menlo,'DejaVu Sans Mono',consolas,'Courier New',monospace\">geometry\n",
       "</pre>\n"
      ],
      "text/plain": [
       "geometry\n"
      ]
     },
     "metadata": {},
     "output_type": "display_data"
    },
    {
     "data": {
      "text/html": [
       "<pre style=\"white-space:pre;overflow-x:auto;line-height:normal;font-family:Menlo,'DejaVu Sans Mono',consolas,'Courier New',monospace\">calculando colisao Reflorestar/Reflorestar_shapefile/main_reflorestar_2021_revisado.shp\n",
       "</pre>\n"
      ],
      "text/plain": [
       "calculando colisao Reflorestar/Reflorestar_shapefile/main_reflorestar_2021_revisado.shp\n"
      ]
     },
     "metadata": {},
     "output_type": "display_data"
    },
    {
     "name": "stderr",
     "output_type": "stream",
     "text": [
      "100%|██████████| 11316/11316 [00:35<00:00, 319.10it/s]\n"
     ]
    },
    {
     "data": {
      "text/html": [
       "<pre style=\"white-space:pre;overflow-x:auto;line-height:normal;font-family:Menlo,'DejaVu Sans Mono',consolas,'Courier New',monospace\">geometry\n",
       "</pre>\n"
      ],
      "text/plain": [
       "geometry\n"
      ]
     },
     "metadata": {},
     "output_type": "display_data"
    },
    {
     "data": {
      "text/html": [
       "<pre style=\"white-space:pre;overflow-x:auto;line-height:normal;font-family:Menlo,'DejaVu Sans Mono',consolas,'Courier New',monospace\">calculando colisao SARE <span style=\"font-weight: bold\">(</span>REVISAR<span style=\"font-weight: bold\">)</span><span style=\"color: #800080; text-decoration-color: #800080\">/SARE_SHAPEFILE/</span><span style=\"color: #ff00ff; text-decoration-color: #ff00ff\">Sare_Sirgas.shp</span>\n",
       "</pre>\n"
      ],
      "text/plain": [
       "calculando colisao SARE \u001b[1m(\u001b[0mREVISAR\u001b[1m)\u001b[0m\u001b[35m/SARE_SHAPEFILE/\u001b[0m\u001b[95mSare_Sirgas.shp\u001b[0m\n"
      ]
     },
     "metadata": {},
     "output_type": "display_data"
    },
    {
     "name": "stderr",
     "output_type": "stream",
     "text": [
      "100%|██████████| 4591/4591 [00:06<00:00, 718.09it/s]\n"
     ]
    },
    {
     "data": {
      "text/html": [
       "<pre style=\"white-space:pre;overflow-x:auto;line-height:normal;font-family:Menlo,'DejaVu Sans Mono',consolas,'Courier New',monospace\">geometry\n",
       "</pre>\n"
      ],
      "text/plain": [
       "geometry\n"
      ]
     },
     "metadata": {},
     "output_type": "display_data"
    },
    {
     "data": {
      "text/html": [
       "<pre style=\"white-space:pre;overflow-x:auto;line-height:normal;font-family:Menlo,'DejaVu Sans Mono',consolas,'Courier New',monospace\">calculando colisao SARE <span style=\"font-weight: bold\">(</span>REVISAR<span style=\"font-weight: bold\">)</span><span style=\"color: #800080; text-decoration-color: #800080\">/</span><span style=\"color: #ff00ff; text-decoration-color: #ff00ff\">sare.gpkg</span>\n",
       "</pre>\n"
      ],
      "text/plain": [
       "calculando colisao SARE \u001b[1m(\u001b[0mREVISAR\u001b[1m)\u001b[0m\u001b[35m/\u001b[0m\u001b[95msare.gpkg\u001b[0m\n"
      ]
     },
     "metadata": {},
     "output_type": "display_data"
    },
    {
     "name": "stderr",
     "output_type": "stream",
     "text": [
      "100%|██████████| 4591/4591 [00:06<00:00, 679.05it/s]\n"
     ]
    },
    {
     "data": {
      "text/html": [
       "<pre style=\"white-space:pre;overflow-x:auto;line-height:normal;font-family:Menlo,'DejaVu Sans Mono',consolas,'Courier New',monospace\">geometry\n",
       "</pre>\n"
      ],
      "text/plain": [
       "geometry\n"
      ]
     },
     "metadata": {},
     "output_type": "display_data"
    },
    {
     "data": {
      "text/html": [
       "<pre style=\"white-space:pre;overflow-x:auto;line-height:normal;font-family:Menlo,'DejaVu Sans Mono',consolas,'Courier New',monospace\">calculando colisao Solidaridad/restauramazonia_saf_v06.<span style=\"color: #008080; text-decoration-color: #008080; font-weight: bold\">10.</span>2023_compartilhado.shp\n",
       "</pre>\n"
      ],
      "text/plain": [
       "calculando colisao Solidaridad/restauramazonia_saf_v06.\u001b[1;36m10.\u001b[0m2023_compartilhado.shp\n"
      ]
     },
     "metadata": {},
     "output_type": "display_data"
    },
    {
     "name": "stderr",
     "output_type": "stream",
     "text": [
      "100%|██████████| 345/345 [00:00<00:00, 2874.39it/s]\n"
     ]
    },
    {
     "data": {
      "text/html": [
       "<pre style=\"white-space:pre;overflow-x:auto;line-height:normal;font-family:Menlo,'DejaVu Sans Mono',consolas,'Courier New',monospace\">geometry\n",
       "</pre>\n"
      ],
      "text/plain": [
       "geometry\n"
      ]
     },
     "metadata": {},
     "output_type": "display_data"
    },
    {
     "data": {
      "text/html": [
       "<pre style=\"white-space:pre;overflow-x:auto;line-height:normal;font-family:Menlo,'DejaVu Sans Mono',consolas,'Courier New',monospace\">calculando colisao TNC/Araucária e Serra do Mar/Araucária e Serra do Mar.zip\n",
       "</pre>\n"
      ],
      "text/plain": [
       "calculando colisao TNC/Araucária e Serra do Mar/Araucária e Serra do Mar.zip\n"
      ]
     },
     "metadata": {},
     "output_type": "display_data"
    },
    {
     "name": "stderr",
     "output_type": "stream",
     "text": [
      "100%|██████████| 1541/1541 [00:00<00:00, 1821.28it/s]\n",
      ") missing from current font.0432.py:120: UserWarning: Glyph 13 (\n",
      "  pdf.savefig(fig, bbox_inches='tight')\n",
      ") missing from current font.0432.py:120: UserWarning: Glyph 13 (\n",
      "  pdf.savefig(fig, bbox_inches='tight')\n",
      ") missing from current font.0432.py:120: UserWarning: Glyph 13 (\n",
      "  pdf.savefig(fig, bbox_inches='tight')\n",
      ") missing from current font.0432.py:120: UserWarning: Glyph 13 (\n",
      "  pdf.savefig(fig, bbox_inches='tight')\n"
     ]
    },
    {
     "data": {
      "text/html": [
       "<pre style=\"white-space:pre;overflow-x:auto;line-height:normal;font-family:Menlo,'DejaVu Sans Mono',consolas,'Courier New',monospace\">geometry\n",
       "</pre>\n"
      ],
      "text/plain": [
       "geometry\n"
      ]
     },
     "metadata": {},
     "output_type": "display_data"
    },
    {
     "data": {
      "text/html": [
       "<pre style=\"white-space:pre;overflow-x:auto;line-height:normal;font-family:Menlo,'DejaVu Sans Mono',consolas,'Courier New',monospace\">calculando colisao TNC/Coalizão Cidades pelas Águas/Coalizão Cidades pelas Águas.zip\n",
       "</pre>\n"
      ],
      "text/plain": [
       "calculando colisao TNC/Coalizão Cidades pelas Águas/Coalizão Cidades pelas Águas.zip\n"
      ]
     },
     "metadata": {},
     "output_type": "display_data"
    },
    {
     "name": "stderr",
     "output_type": "stream",
     "text": [
      "100%|██████████| 283/283 [00:00<00:00, 2891.95it/s]\n",
      ") missing from current font.0432.py:120: UserWarning: Glyph 13 (\n",
      "  pdf.savefig(fig, bbox_inches='tight')\n",
      ") missing from current font.0432.py:120: UserWarning: Glyph 13 (\n",
      "  pdf.savefig(fig, bbox_inches='tight')\n",
      ") missing from current font.0432.py:120: UserWarning: Glyph 13 (\n",
      "  pdf.savefig(fig, bbox_inches='tight')\n"
     ]
    },
    {
     "data": {
      "text/html": [
       "<pre style=\"white-space:pre;overflow-x:auto;line-height:normal;font-family:Menlo,'DejaVu Sans Mono',consolas,'Courier New',monospace\">geometry\n",
       "</pre>\n"
      ],
      "text/plain": [
       "geometry\n"
      ]
     },
     "metadata": {},
     "output_type": "display_data"
    },
    {
     "data": {
      "text/html": [
       "<pre style=\"white-space:pre;overflow-x:auto;line-height:normal;font-family:Menlo,'DejaVu Sans Mono',consolas,'Courier New',monospace\">calculando colisao TNC/Conservador da Mantiqueira/Conservador da Mantiqueira.zip\n",
       "</pre>\n"
      ],
      "text/plain": [
       "calculando colisao TNC/Conservador da Mantiqueira/Conservador da Mantiqueira.zip\n"
      ]
     },
     "metadata": {},
     "output_type": "display_data"
    },
    {
     "name": "stderr",
     "output_type": "stream",
     "text": [
      "100%|██████████| 397/397 [00:00<00:00, 2342.35it/s]\n",
      ") missing from current font.0432.py:120: UserWarning: Glyph 13 (\n",
      "  pdf.savefig(fig, bbox_inches='tight')\n",
      ") missing from current font.0432.py:120: UserWarning: Glyph 13 (\n",
      "  pdf.savefig(fig, bbox_inches='tight')\n",
      ") missing from current font.0432.py:120: UserWarning: Glyph 13 (\n",
      "  pdf.savefig(fig, bbox_inches='tight')\n",
      ") missing from current font.0432.py:120: UserWarning: Glyph 13 (\n",
      "  pdf.savefig(fig, bbox_inches='tight')\n"
     ]
    },
    {
     "data": {
      "text/html": [
       "<pre style=\"white-space:pre;overflow-x:auto;line-height:normal;font-family:Menlo,'DejaVu Sans Mono',consolas,'Courier New',monospace\">geometry\n",
       "</pre>\n"
      ],
      "text/plain": [
       "geometry\n"
      ]
     },
     "metadata": {},
     "output_type": "display_data"
    },
    {
     "data": {
      "text/html": [
       "<pre style=\"white-space:pre;overflow-x:auto;line-height:normal;font-family:Menlo,'DejaVu Sans Mono',consolas,'Courier New',monospace\">3d to 2d\n",
       "</pre>\n"
      ],
      "text/plain": [
       "3d to 2d\n"
      ]
     },
     "metadata": {},
     "output_type": "display_data"
    },
    {
     "data": {
      "text/html": [
       "<pre style=\"white-space:pre;overflow-x:auto;line-height:normal;font-family:Menlo,'DejaVu Sans Mono',consolas,'Courier New',monospace\">calculando colisao UEMA - Revisar/UEMA Rousseau pol final.shp\n",
       "</pre>\n"
      ],
      "text/plain": [
       "calculando colisao UEMA - Revisar/UEMA Rousseau pol final.shp\n"
      ]
     },
     "metadata": {},
     "output_type": "display_data"
    },
    {
     "name": "stderr",
     "output_type": "stream",
     "text": [
      "100%|██████████| 5/5 [00:00<00:00, 428.35it/s]\n"
     ]
    },
    {
     "data": {
      "text/html": [
       "<pre style=\"white-space:pre;overflow-x:auto;line-height:normal;font-family:Menlo,'DejaVu Sans Mono',consolas,'Courier New',monospace\">geometry\n",
       "</pre>\n"
      ],
      "text/plain": [
       "geometry\n"
      ]
     },
     "metadata": {},
     "output_type": "display_data"
    },
    {
     "data": {
      "text/html": [
       "<pre style=\"white-space:pre;overflow-x:auto;line-height:normal;font-family:Menlo,'DejaVu Sans Mono',consolas,'Courier New',monospace\">3d to 2d\n",
       "</pre>\n"
      ],
      "text/plain": [
       "3d to 2d\n"
      ]
     },
     "metadata": {},
     "output_type": "display_data"
    },
    {
     "data": {
      "text/html": [
       "<pre style=\"white-space:pre;overflow-x:auto;line-height:normal;font-family:Menlo,'DejaVu Sans Mono',consolas,'Courier New',monospace\">calculando colisao Vale nao ferrosos <span style=\"font-weight: bold\">(</span>revisar<span style=\"font-weight: bold\">)</span><span style=\"color: #800080; text-decoration-color: #800080\">/</span><span style=\"color: #ff00ff; text-decoration-color: #ff00ff\">Valenaoferrosos_ORR.shp</span>\n",
       "</pre>\n"
      ],
      "text/plain": [
       "calculando colisao Vale nao ferrosos \u001b[1m(\u001b[0mrevisar\u001b[1m)\u001b[0m\u001b[35m/\u001b[0m\u001b[95mValenaoferrosos_ORR.shp\u001b[0m\n"
      ]
     },
     "metadata": {},
     "output_type": "display_data"
    },
    {
     "name": "stderr",
     "output_type": "stream",
     "text": [
      "100%|██████████| 150/150 [00:00<00:00, 3862.92it/s]\n",
      ") missing from current font.0432.py:120: UserWarning: Glyph 13 (\n",
      "  pdf.savefig(fig, bbox_inches='tight')\n"
     ]
    },
    {
     "data": {
      "text/html": [
       "<pre style=\"white-space:pre;overflow-x:auto;line-height:normal;font-family:Menlo,'DejaVu Sans Mono',consolas,'Courier New',monospace\">geometry\n",
       "</pre>\n"
      ],
      "text/plain": [
       "geometry\n"
      ]
     },
     "metadata": {},
     "output_type": "display_data"
    },
    {
     "data": {
      "text/html": [
       "<pre style=\"white-space:pre;overflow-x:auto;line-height:normal;font-family:Menlo,'DejaVu Sans Mono',consolas,'Courier New',monospace\">3d to 2d\n",
       "</pre>\n"
      ],
      "text/plain": [
       "3d to 2d\n"
      ]
     },
     "metadata": {},
     "output_type": "display_data"
    },
    {
     "data": {
      "text/html": [
       "<pre style=\"white-space:pre;overflow-x:auto;line-height:normal;font-family:Menlo,'DejaVu Sans Mono',consolas,'Courier New',monospace\">calculando colisao pacto_organizado/AREAS_RESTAURACAO_PACTO_240124.shp\n",
       "</pre>\n"
      ],
      "text/plain": [
       "calculando colisao pacto_organizado/AREAS_RESTAURACAO_PACTO_240124.shp\n"
      ]
     },
     "metadata": {},
     "output_type": "display_data"
    },
    {
     "name": "stderr",
     "output_type": "stream",
     "text": [
      " 69%|██████▉   | 17072/24776 [03:25<02:31, 50.69it/s] "
     ]
    }
   ],
   "source": [
    "metadata = []\n",
    "geo_data = []\n",
    "for file in sorted(files):\n",
    "    try:\n",
    "        tmp = gpd.read_file(file)\n",
    "        _metadata = {\n",
    "            'file': file,\n",
    "            'columns':sorted([normalize(i) for i in tmp.columns]),\n",
    "            'len_columns':len(tmp.columns),\n",
    "            'len':len(tmp)\n",
    "        }\n",
    "        path = file.name.split('.')[0]\n",
    "        \n",
    "        text_area = ''\n",
    "        \n",
    "        df_wm = tmp.to_crs(epsg=3857)\n",
    "        \n",
    "        if any(df_wm.geometry.has_z):\n",
    "            df_wm.geometry = convert_3D_2D(df_wm.geometry)\n",
    "            print('3d to 2d')\n",
    "        \n",
    "        df_wm['area_ha'] = df_wm.to_crs(5880).area / 10_000 \n",
    "\n",
    "        df_wm['area_cat'] = df_wm['area_ha'].apply(area_cat).astype(area_ordenada)\n",
    "        df_wm['file'] = file\n",
    "        araea_size =df_wm.groupby('area_cat', observed=True).size()\n",
    "        \n",
    "        \n",
    "        df_wm = df_wm.dropna(subset=['geometry']).copy()\n",
    "        \n",
    "        df_wm['index'] = df_wm.reset_index().index\n",
    "        df_wm=df_wm.reset_index()\n",
    "        \n",
    "        print(f\"calculando colisao {file}\")\n",
    "        def interna(_id):\n",
    "            test = df_wm[df_wm['index'] != _id]\n",
    "            try:\n",
    "                return {\n",
    "                    'index':_id,\n",
    "                    #'file':str(df_wm.iloc[_id]['file']),\n",
    "                    'intersects': is_vazio(set(test[test.intersects(df_wm.iloc[_id].geometry)]['index'])),\n",
    "                    'covers': is_vazio(set(test[test.covers(df_wm.iloc[_id].geometry)]['index'])),\n",
    "                    'within': is_vazio(set(test[test.within(df_wm.iloc[_id].geometry)]['index'])),\n",
    "                    'touches': is_vazio(set(test[test.touches(df_wm.iloc[_id].geometry)]['index'])),\n",
    "                    'geom_equals_exact': is_vazio(set(test[test.geom_equals_exact(df_wm.iloc[_id].geometry,tolerance=0.00001)]['index'])),\n",
    "                    'error':np.nan\n",
    "                    #'geometry':df_wm.iloc[_id]['geometry']\n",
    "\n",
    "                }\n",
    "            except Exception as e:\n",
    "                return {\n",
    "                    #'index':_id,\n",
    "                    'file':str(df_wm.iloc[_id]['file']),\n",
    "                    #'geometry':df_wm.iloc[_id]['geometry'],\n",
    "                    'error':str(e)\n",
    "                }\n",
    "    \n",
    "        \n",
    "        with Pool(16) as works:\n",
    "            rows = list(\n",
    "                tqdm(\n",
    "                    works.imap_unordered(\n",
    "                        interna, df_wm['index']), total=len(df_wm['index'])))\n",
    "\n",
    "        inter_colides = pd.DataFrame(rows).dropna(subset=colides_col,how='all').sort_values('index').set_index('index')\n",
    "        inter_colides.to_csv(f\"csv/{str(file).replace('/', ' | ')}.csv\")\n",
    "        \n",
    "        df_wm['value'] = 1\n",
    "        df_wm.geometry = df_wm.geometry.make_valid()\n",
    "        dr_dissolve_areaa = df_wm.dissolve('area_cat', observed=True).to_crs(5880).area / 10_000\n",
    "        total_area = df_wm.dissolve('value').to_crs(5880).area / 10_000\n",
    "        \n",
    "        area_ha_df =pd.DataFrame({'quantidae':araea_size,'total ha':dr_dissolve_areaa})\n",
    "        area_ha_df['total ha'].sum() ==  total_area.sum()\n",
    "        geo_data.append(df_wm[['area_ha','area_cat', 'file','geometry']])\n",
    "        with PdfPages(f'pdf/{str(file).replace(\"/\",\"|\")}.pdf') as pdf:\n",
    "            fig, ax = plt.subplots()\n",
    "            coluns_txt = ''\n",
    "            for c in tmp.columns:\n",
    "                coluns_txt += f'  - {c}\\n'\n",
    "            ax.axis('off')  # Desliga os eixos do gráfico\n",
    "            markdown_text = f\"\"\"\n",
    "Relatoria do arquivo: {file}\n",
    "Soma da area do poligino em hectares = {total_area.sum()}\n",
    "\n",
    "colunas:\n",
    "{coluns_txt}\n",
    "\n",
    "            \"\"\"\n",
    "\n",
    "            ax.text(0.1, 0.9, markdown_text, fontsize=12, ha='left', va='top', transform=fig.transFigure)\n",
    "            pdf.savefig(fig, bbox_inches='tight')\n",
    "            plt.close()\n",
    "            \n",
    "            \n",
    "            fig, ax = plt.subplots()\n",
    "            ax.axis('off') \n",
    "            table = pd.plotting.table(ax, area_ha_df, loc='top',\n",
    "                          cellLoc='center')\n",
    "            pdf.savefig(fig, bbox_inches='tight')\n",
    "            \n",
    "            plt.close()\n",
    "            \n",
    "            \n",
    "            fig, ax = plt.subplots()\n",
    "            plt.title('Categoria de area em hectares')\n",
    "            araea_size.plot.barh()\n",
    "            pdf.savefig(fig, bbox_inches='tight')\n",
    "            plt.close()\n",
    "            \n",
    "            for col in tmp.columns:\n",
    "                if not col == 'geometry':\n",
    "                    data = tmp.groupby(col).size()\n",
    "                    if len(data) < 50 and len(data) > 0:\n",
    "                        try:\n",
    "                            fig, ax = plt.subplots(figsize=(6,len(data)))\n",
    "                            Path(f'figs/{path}').mkdir(exist_ok=True)\n",
    "                            plt.title(f'{col} - {path}')\n",
    "                            data.plot.barh(ax=ax)\n",
    "                            pdf.savefig(fig, bbox_inches='tight')\n",
    "                            plt.close()\n",
    "                        except Exception as e:\n",
    "                            print(e)\n",
    "            \n",
    "            print('geometry')\n",
    "            df_wm.sort_values('area_ha',inplace=True)\n",
    "            fig, (ax1, ax2, ax3) = plt.subplots(3,figsize=(10, 30))\n",
    "            df_wm.plot(figsize=(10, 10), color='red', edgecolor=\"red\", linewidth=3, ax=ax1)\n",
    "            cx.add_basemap(ax1,source='https://mt1.google.com/vt/lyrs=y&x={x}&y={y}&z={z}')\n",
    "            ax1.add_artist(ScaleBar(1))\n",
    "            ax1.set_title(f\"{file} contem {len(df_wm)} geometrias\")\n",
    "            ax2.set_title(f\"{file} menor {df_wm.iloc[0]['area_ha']:.9f} ha\")\n",
    "            ax3.set_title(f\"{file} maior {df_wm.iloc[-1]['area_ha']:.3f} ha\")\n",
    "\n",
    "            df_wm.iloc[:1].boundary.plot(figsize=(10, 10), alpha=1, linewidth=3, edgecolor=\"red\",ax=ax2)\n",
    "            bound_box_buffer(df_wm.iloc[:1]).plot(alpha=0.0, ax=ax2)\n",
    "            cx.add_basemap(ax2,source='https://mt1.google.com/vt/lyrs=y&x={x}&y={y}&z={z}')\n",
    "            ax2.add_artist(ScaleBar(1))\n",
    "            ax3.set_title(f\"{file} maior {df_wm.iloc[-1]['area_ha']:.3f} ha\")\n",
    "            df_wm.iloc[-1:].boundary.plot(figsize=(10, 10), alpha=1, linewidth=3, edgecolor=\"red\",ax=ax3)\n",
    "            bound_box_buffer(df_wm.iloc[-1:]).plot(alpha=0.0, ax=ax3 )\n",
    "            cx.add_basemap(ax3,source='https://mt1.google.com/vt/lyrs=y&x={x}&y={y}&z={z}')\n",
    "            ax3.add_artist(ScaleBar(1))\n",
    "            pdf.savefig(fig, bbox_inches='tight')\n",
    "            \n",
    "            # plt.show()\n",
    "            plt.close()\n",
    "            \n",
    "            for i, row in df_wm[df_wm['area_cat'] == '< 0.001'].iterrows():\n",
    "                fig, ax = plt.subplots(figsize=(16,16))\n",
    "                row_ = gpd.GeoDataFrame([row])\n",
    "                ax.set_title(f\"{file} {row['area_ha']:.8f} ha\")\n",
    "                row_.boundary.plot(figsize=(10, 10), alpha=1, linewidth=3, edgecolor=\"red\",ax=ax)\n",
    "                bound_box_buffer(row_).plot(alpha=0.0, ax=ax )\n",
    "                cx.add_basemap(ax,source='https://mt1.google.com/vt/lyrs=y&x={x}&y={y}&z={z}')\n",
    "                ax.add_artist(ScaleBar(1))\n",
    "                \n",
    "                pdf.savefig(fig, bbox_inches='tight')\n",
    "                # plt.show()\n",
    "                plt.close()\n",
    "                \n",
    "        metadata.append(_metadata)\n",
    "    except Exception as e:\n",
    "        logger.exception(e)\n",
    "        metadata.append({\n",
    "            'file': file,\n",
    "            'columns':[],\n",
    "            'len_columns':0,\n",
    "            'error':e\n",
    "        }\n",
    "        )\n",
    "\n"
   ]
  },
  {
   "cell_type": "code",
   "execution_count": null,
   "id": "0d662321-27c2-4ce6-9e50-cce019bf02b8",
   "metadata": {
    "tags": []
   },
   "outputs": [],
   "source": [
    "all_df = gpd.GeoDataFrame(pd.concat(geo_data),crs=3857).to_crs(4326)\n",
    "all_df['area_cat'] = all_df['area_cat'].astype(str)\n",
    "all_df['file'] = all_df['file'].astype(str)\n",
    "all_df.to_file('../total_gemetry.gpkg')"
   ]
  },
  {
   "cell_type": "code",
   "execution_count": null,
   "id": "3221c2ad-75e8-477d-a284-b401461166d9",
   "metadata": {
    "tags": []
   },
   "outputs": [],
   "source": [
    "all_df['index'] = all_df.reset_index().index\n",
    "all_df = all_df.reset_index()\n"
   ]
  },
  {
   "cell_type": "code",
   "execution_count": null,
   "id": "e0eac265-afad-4ea2-80f6-627bd3411aad",
   "metadata": {
    "tags": []
   },
   "outputs": [],
   "source": []
  },
  {
   "cell_type": "code",
   "execution_count": null,
   "id": "f3d1487b-bdcf-4f5a-82ef-d9b9195bf0ef",
   "metadata": {
    "tags": []
   },
   "outputs": [],
   "source": [
    "with Pool(processes=16) as work:\n",
    "    mapped_values = list(tqdm(work.imap_unordered(get_colides_by_id, all_df['index']), total=len(all_df['index'])))\n"
   ]
  },
  {
   "cell_type": "code",
   "execution_count": null,
   "id": "b53dff51-c477-4caf-b795-4fa0d8db0583",
   "metadata": {},
   "outputs": [],
   "source": []
  },
  {
   "cell_type": "code",
   "execution_count": null,
   "id": "890b1620-b966-4122-aae1-ff292d5fecae",
   "metadata": {
    "tags": []
   },
   "outputs": [],
   "source": [
    "def to_srt(data):\n",
    "    try:\n",
    "        return'|'.join([str(i) for i in data])\n",
    "    except:\n",
    "        return np.nan"
   ]
  },
  {
   "cell_type": "code",
   "execution_count": 9,
   "id": "69c33925-aac9-466c-8488-aaab45f8ba28",
   "metadata": {
    "tags": []
   },
   "outputs": [],
   "source": [
    "colides_all = gpd.GeoDataFrame(mapped_values, crs=4326)"
   ]
  },
  {
   "cell_type": "code",
   "execution_count": 10,
   "id": "c99b79ef-8188-49af-abfd-43d5f7f8989d",
   "metadata": {
    "tags": []
   },
   "outputs": [
    {
     "ename": "ValueError",
     "evalue": "Invalid field type <class 'set'>",
     "output_type": "error",
     "traceback": [
      "\u001b[0;31m---------------------------------------------------------------------------\u001b[0m",
      "\u001b[0;31mValueError\u001b[0m                                Traceback (most recent call last)",
      "Cell \u001b[0;32mIn[10], line 1\u001b[0m\n\u001b[0;32m----> 1\u001b[0m \u001b[43mcolides_all\u001b[49m\u001b[38;5;241;43m.\u001b[39;49m\u001b[43mto_file\u001b[49m\u001b[43m(\u001b[49m\u001b[38;5;124;43m'\u001b[39;49m\u001b[38;5;124;43m../colides.gpkg\u001b[39;49m\u001b[38;5;124;43m'\u001b[39;49m\u001b[43m)\u001b[49m\n",
      "File \u001b[0;32m/opt/conda/lib/python3.11/site-packages/geopandas/geodataframe.py:1246\u001b[0m, in \u001b[0;36mGeoDataFrame.to_file\u001b[0;34m(self, filename, driver, schema, index, **kwargs)\u001b[0m\n\u001b[1;32m   1155\u001b[0m \u001b[38;5;250m\u001b[39m\u001b[38;5;124;03m\"\"\"Write the ``GeoDataFrame`` to a file.\u001b[39;00m\n\u001b[1;32m   1156\u001b[0m \n\u001b[1;32m   1157\u001b[0m \u001b[38;5;124;03mBy default, an ESRI shapefile is written, but any OGR data source\u001b[39;00m\n\u001b[0;32m   (...)\u001b[0m\n\u001b[1;32m   1242\u001b[0m \n\u001b[1;32m   1243\u001b[0m \u001b[38;5;124;03m\"\"\"\u001b[39;00m\n\u001b[1;32m   1244\u001b[0m \u001b[38;5;28;01mfrom\u001b[39;00m \u001b[38;5;21;01mgeopandas\u001b[39;00m\u001b[38;5;21;01m.\u001b[39;00m\u001b[38;5;21;01mio\u001b[39;00m\u001b[38;5;21;01m.\u001b[39;00m\u001b[38;5;21;01mfile\u001b[39;00m \u001b[38;5;28;01mimport\u001b[39;00m _to_file\n\u001b[0;32m-> 1246\u001b[0m \u001b[43m_to_file\u001b[49m\u001b[43m(\u001b[49m\u001b[38;5;28;43mself\u001b[39;49m\u001b[43m,\u001b[49m\u001b[43m \u001b[49m\u001b[43mfilename\u001b[49m\u001b[43m,\u001b[49m\u001b[43m \u001b[49m\u001b[43mdriver\u001b[49m\u001b[43m,\u001b[49m\u001b[43m \u001b[49m\u001b[43mschema\u001b[49m\u001b[43m,\u001b[49m\u001b[43m \u001b[49m\u001b[43mindex\u001b[49m\u001b[43m,\u001b[49m\u001b[43m \u001b[49m\u001b[38;5;241;43m*\u001b[39;49m\u001b[38;5;241;43m*\u001b[39;49m\u001b[43mkwargs\u001b[49m\u001b[43m)\u001b[49m\n",
      "File \u001b[0;32m/opt/conda/lib/python3.11/site-packages/geopandas/io/file.py:633\u001b[0m, in \u001b[0;36m_to_file\u001b[0;34m(df, filename, driver, schema, index, mode, crs, engine, **kwargs)\u001b[0m\n\u001b[1;32m    630\u001b[0m     \u001b[38;5;28;01mraise\u001b[39;00m \u001b[38;5;167;01mValueError\u001b[39;00m(\u001b[38;5;124mf\u001b[39m\u001b[38;5;124m\"\u001b[39m\u001b[38;5;124m'\u001b[39m\u001b[38;5;124mmode\u001b[39m\u001b[38;5;124m'\u001b[39m\u001b[38;5;124m should be one of \u001b[39m\u001b[38;5;124m'\u001b[39m\u001b[38;5;124mw\u001b[39m\u001b[38;5;124m'\u001b[39m\u001b[38;5;124m or \u001b[39m\u001b[38;5;124m'\u001b[39m\u001b[38;5;124ma\u001b[39m\u001b[38;5;124m'\u001b[39m\u001b[38;5;124m, got \u001b[39m\u001b[38;5;124m'\u001b[39m\u001b[38;5;132;01m{\u001b[39;00mmode\u001b[38;5;132;01m}\u001b[39;00m\u001b[38;5;124m'\u001b[39m\u001b[38;5;124m instead\u001b[39m\u001b[38;5;124m\"\u001b[39m)\n\u001b[1;32m    632\u001b[0m \u001b[38;5;28;01mif\u001b[39;00m engine \u001b[38;5;241m==\u001b[39m \u001b[38;5;124m\"\u001b[39m\u001b[38;5;124mfiona\u001b[39m\u001b[38;5;124m\"\u001b[39m:\n\u001b[0;32m--> 633\u001b[0m     \u001b[43m_to_file_fiona\u001b[49m\u001b[43m(\u001b[49m\u001b[43mdf\u001b[49m\u001b[43m,\u001b[49m\u001b[43m \u001b[49m\u001b[43mfilename\u001b[49m\u001b[43m,\u001b[49m\u001b[43m \u001b[49m\u001b[43mdriver\u001b[49m\u001b[43m,\u001b[49m\u001b[43m \u001b[49m\u001b[43mschema\u001b[49m\u001b[43m,\u001b[49m\u001b[43m \u001b[49m\u001b[43mcrs\u001b[49m\u001b[43m,\u001b[49m\u001b[43m \u001b[49m\u001b[43mmode\u001b[49m\u001b[43m,\u001b[49m\u001b[43m \u001b[49m\u001b[38;5;241;43m*\u001b[39;49m\u001b[38;5;241;43m*\u001b[39;49m\u001b[43mkwargs\u001b[49m\u001b[43m)\u001b[49m\n\u001b[1;32m    634\u001b[0m \u001b[38;5;28;01melif\u001b[39;00m engine \u001b[38;5;241m==\u001b[39m \u001b[38;5;124m\"\u001b[39m\u001b[38;5;124mpyogrio\u001b[39m\u001b[38;5;124m\"\u001b[39m:\n\u001b[1;32m    635\u001b[0m     _to_file_pyogrio(df, filename, driver, schema, crs, mode, \u001b[38;5;241m*\u001b[39m\u001b[38;5;241m*\u001b[39mkwargs)\n",
      "File \u001b[0;32m/opt/conda/lib/python3.11/site-packages/geopandas/io/file.py:664\u001b[0m, in \u001b[0;36m_to_file_fiona\u001b[0;34m(df, filename, driver, schema, crs, mode, **kwargs)\u001b[0m\n\u001b[1;32m    660\u001b[0m     crs_wkt \u001b[38;5;241m=\u001b[39m crs\u001b[38;5;241m.\u001b[39mto_wkt(\u001b[38;5;124m\"\u001b[39m\u001b[38;5;124mWKT1_GDAL\u001b[39m\u001b[38;5;124m\"\u001b[39m)\n\u001b[1;32m    661\u001b[0m \u001b[38;5;28;01mwith\u001b[39;00m fiona\u001b[38;5;241m.\u001b[39mopen(\n\u001b[1;32m    662\u001b[0m     filename, mode\u001b[38;5;241m=\u001b[39mmode, driver\u001b[38;5;241m=\u001b[39mdriver, crs_wkt\u001b[38;5;241m=\u001b[39mcrs_wkt, schema\u001b[38;5;241m=\u001b[39mschema, \u001b[38;5;241m*\u001b[39m\u001b[38;5;241m*\u001b[39mkwargs\n\u001b[1;32m    663\u001b[0m ) \u001b[38;5;28;01mas\u001b[39;00m colxn:\n\u001b[0;32m--> 664\u001b[0m     \u001b[43mcolxn\u001b[49m\u001b[38;5;241;43m.\u001b[39;49m\u001b[43mwriterecords\u001b[49m\u001b[43m(\u001b[49m\u001b[43mdf\u001b[49m\u001b[38;5;241;43m.\u001b[39;49m\u001b[43miterfeatures\u001b[49m\u001b[43m(\u001b[49m\u001b[43m)\u001b[49m\u001b[43m)\u001b[49m\n",
      "File \u001b[0;32m/opt/conda/lib/python3.11/site-packages/fiona/collection.py:558\u001b[0m, in \u001b[0;36mCollection.writerecords\u001b[0;34m(self, records)\u001b[0m\n\u001b[1;32m    556\u001b[0m \u001b[38;5;28;01mif\u001b[39;00m \u001b[38;5;28mself\u001b[39m\u001b[38;5;241m.\u001b[39mmode \u001b[38;5;129;01mnot\u001b[39;00m \u001b[38;5;129;01min\u001b[39;00m (\u001b[38;5;124m\"\u001b[39m\u001b[38;5;124ma\u001b[39m\u001b[38;5;124m\"\u001b[39m, \u001b[38;5;124m\"\u001b[39m\u001b[38;5;124mw\u001b[39m\u001b[38;5;124m\"\u001b[39m):\n\u001b[1;32m    557\u001b[0m     \u001b[38;5;28;01mraise\u001b[39;00m \u001b[38;5;167;01mOSError\u001b[39;00m(\u001b[38;5;124m\"\u001b[39m\u001b[38;5;124mcollection not open for writing\u001b[39m\u001b[38;5;124m\"\u001b[39m)\n\u001b[0;32m--> 558\u001b[0m \u001b[38;5;28;43mself\u001b[39;49m\u001b[38;5;241;43m.\u001b[39;49m\u001b[43msession\u001b[49m\u001b[38;5;241;43m.\u001b[39;49m\u001b[43mwriterecs\u001b[49m\u001b[43m(\u001b[49m\u001b[43mrecords\u001b[49m\u001b[43m,\u001b[49m\u001b[43m \u001b[49m\u001b[38;5;28;43mself\u001b[39;49m\u001b[43m)\u001b[49m\n\u001b[1;32m    559\u001b[0m \u001b[38;5;28mself\u001b[39m\u001b[38;5;241m.\u001b[39m_len \u001b[38;5;241m=\u001b[39m \u001b[38;5;28mself\u001b[39m\u001b[38;5;241m.\u001b[39msession\u001b[38;5;241m.\u001b[39mget_length()\n\u001b[1;32m    560\u001b[0m \u001b[38;5;28mself\u001b[39m\u001b[38;5;241m.\u001b[39m_bounds \u001b[38;5;241m=\u001b[39m \u001b[38;5;28;01mNone\u001b[39;00m\n",
      "File \u001b[0;32mfiona/ogrext.pyx:1409\u001b[0m, in \u001b[0;36mfiona.ogrext.WritingSession.writerecs\u001b[0;34m()\u001b[0m\n",
      "File \u001b[0;32mfiona/ogrext.pyx:514\u001b[0m, in \u001b[0;36mfiona.ogrext.OGRFeatureBuilder.build\u001b[0;34m()\u001b[0m\n",
      "\u001b[0;31mValueError\u001b[0m: Invalid field type <class 'set'>"
     ]
    }
   ],
   "source": [
    "colides_all.to_file('../colides.gpkg')"
   ]
  },
  {
   "cell_type": "code",
   "execution_count": null,
   "id": "4cc9721b-9e11-4475-81e1-678d5b58758b",
   "metadata": {},
   "outputs": [],
   "source": []
  },
  {
   "cell_type": "code",
   "execution_count": null,
   "id": "9cb2e2d1-759c-4059-b2e2-f4cd225b3c28",
   "metadata": {
    "tags": []
   },
   "outputs": [],
   "source": [
    "colides_all = gpd.read_file('../colides.gpkg')\n",
    "colides_all"
   ]
  },
  {
   "cell_type": "code",
   "execution_count": null,
   "id": "c4ac2a66-2e45-4a75-874e-9c7dd37e3cd2",
   "metadata": {
    "tags": []
   },
   "outputs": [],
   "source": [
    "for i in ['intersects', 'covers', 'within', 'touches', 'geom_equals_exact']:\n",
    "    colides_all[i] = colides_all[i].apply(to_srt)"
   ]
  },
  {
   "cell_type": "code",
   "execution_count": null,
   "id": "ba7d06bc-ec7b-4904-b7f2-cd97ca9dc790",
   "metadata": {
    "tags": []
   },
   "outputs": [],
   "source": [
    "colides_all"
   ]
  },
  {
   "cell_type": "code",
   "execution_count": 10,
   "id": "72b1e1d6-8b9f-405f-8400-d2edcb5961ed",
   "metadata": {
    "tags": []
   },
   "outputs": [
    {
     "data": {
      "text/html": [
       "<div>\n",
       "<style scoped>\n",
       "    .dataframe tbody tr th:only-of-type {\n",
       "        vertical-align: middle;\n",
       "    }\n",
       "\n",
       "    .dataframe tbody tr th {\n",
       "        vertical-align: top;\n",
       "    }\n",
       "\n",
       "    .dataframe thead th {\n",
       "        text-align: right;\n",
       "    }\n",
       "</style>\n",
       "<table border=\"1\" class=\"dataframe\">\n",
       "  <thead>\n",
       "    <tr style=\"text-align: right;\">\n",
       "      <th></th>\n",
       "      <th>index</th>\n",
       "      <th>file</th>\n",
       "      <th>intersects</th>\n",
       "    </tr>\n",
       "  </thead>\n",
       "  <tbody>\n",
       "    <tr>\n",
       "      <th>20073</th>\n",
       "      <td>20074</td>\n",
       "      <td>SARE (REVISAR)/SARE_SHAPEFILE/Sare_Sirgas.shp</td>\n",
       "      <td>{|3|6|3|6|8|,| |1|3|0|6|6|,| |3|1|3|9|0|}</td>\n",
       "    </tr>\n",
       "  </tbody>\n",
       "</table>\n",
       "</div>"
      ],
      "text/plain": [
       "       index                                           file  \\\n",
       "20073  20074  SARE (REVISAR)/SARE_SHAPEFILE/Sare_Sirgas.shp   \n",
       "\n",
       "                                      intersects  \n",
       "20073  {|3|6|3|6|8|,| |1|3|0|6|6|,| |3|1|3|9|0|}  "
      ]
     },
     "execution_count": 10,
     "metadata": {},
     "output_type": "execute_result"
    }
   ],
   "source": [
    "df1 = colides_all[['index','file',name_test]]#.dropna(subset=[name_test])\n",
    "df1[ df1['index'] == 20074 ]"
   ]
  },
  {
   "cell_type": "code",
   "execution_count": 11,
   "id": "07c43c44-321a-4949-b133-f1c4a8fb4ffe",
   "metadata": {
    "tags": []
   },
   "outputs": [
    {
     "ename": "ValueError",
     "evalue": "invalid literal for int() with base 10: '{'",
     "output_type": "error",
     "traceback": [
      "\u001b[0;31m---------------------------------------------------------------------------\u001b[0m",
      "\u001b[0;31mValueError\u001b[0m                                Traceback (most recent call last)",
      "Cell \u001b[0;32mIn[11], line 40\u001b[0m\n\u001b[1;32m     37\u001b[0m \u001b[38;5;28;01mdef\u001b[39;00m \u001b[38;5;21mcolid_apply\u001b[39m(x):\n\u001b[1;32m     38\u001b[0m     \u001b[38;5;28;01mreturn\u001b[39;00m \u001b[38;5;124m\"\u001b[39m\u001b[38;5;124m|\u001b[39m\u001b[38;5;124m\"\u001b[39m\u001b[38;5;241m.\u001b[39mjoin([\u001b[38;5;28mstr\u001b[39m(i) \u001b[38;5;28;01mfor\u001b[39;00m i \u001b[38;5;129;01min\u001b[39;00m \u001b[38;5;28mset\u001b[39m([get_id(\u001b[38;5;28mint\u001b[39m(i)) \u001b[38;5;28;01mfor\u001b[39;00m i \u001b[38;5;129;01min\u001b[39;00m x\u001b[38;5;241m.\u001b[39msplit(\u001b[38;5;124m'\u001b[39m\u001b[38;5;124m|\u001b[39m\u001b[38;5;124m'\u001b[39m)])])\n\u001b[0;32m---> 40\u001b[0m df[name_test] \u001b[38;5;241m=\u001b[39m \u001b[43mdf\u001b[49m\u001b[43m[\u001b[49m\u001b[43mname_test\u001b[49m\u001b[43m]\u001b[49m\u001b[38;5;241;43m.\u001b[39;49m\u001b[43mapply\u001b[49m\u001b[43m(\u001b[49m\u001b[43mcolid_apply\u001b[49m\u001b[43m)\u001b[49m\n\u001b[1;32m     41\u001b[0m df[\u001b[38;5;124m'\u001b[39m\u001b[38;5;124mid\u001b[39m\u001b[38;5;124m'\u001b[39m] \u001b[38;5;241m=\u001b[39m df[\u001b[38;5;124m'\u001b[39m\u001b[38;5;124mfile\u001b[39m\u001b[38;5;124m'\u001b[39m]\u001b[38;5;241m.\u001b[39mapply(\u001b[38;5;28;01mlambda\u001b[39;00m x: new[x][\u001b[38;5;124m'\u001b[39m\u001b[38;5;124mid\u001b[39m\u001b[38;5;124m'\u001b[39m])\n\u001b[1;32m     42\u001b[0m df \u001b[38;5;241m=\u001b[39m df[[\u001b[38;5;124m'\u001b[39m\u001b[38;5;124mfile\u001b[39m\u001b[38;5;124m'\u001b[39m, name_test, \u001b[38;5;124m'\u001b[39m\u001b[38;5;124mid\u001b[39m\u001b[38;5;124m'\u001b[39m]]\u001b[38;5;241m.\u001b[39mdrop_duplicates()\n",
      "File \u001b[0;32m/opt/conda/lib/python3.11/site-packages/pandas/core/series.py:4915\u001b[0m, in \u001b[0;36mSeries.apply\u001b[0;34m(self, func, convert_dtype, args, by_row, **kwargs)\u001b[0m\n\u001b[1;32m   4780\u001b[0m \u001b[38;5;28;01mdef\u001b[39;00m \u001b[38;5;21mapply\u001b[39m(\n\u001b[1;32m   4781\u001b[0m     \u001b[38;5;28mself\u001b[39m,\n\u001b[1;32m   4782\u001b[0m     func: AggFuncType,\n\u001b[0;32m   (...)\u001b[0m\n\u001b[1;32m   4787\u001b[0m     \u001b[38;5;241m*\u001b[39m\u001b[38;5;241m*\u001b[39mkwargs,\n\u001b[1;32m   4788\u001b[0m ) \u001b[38;5;241m-\u001b[39m\u001b[38;5;241m>\u001b[39m DataFrame \u001b[38;5;241m|\u001b[39m Series:\n\u001b[1;32m   4789\u001b[0m \u001b[38;5;250m    \u001b[39m\u001b[38;5;124;03m\"\"\"\u001b[39;00m\n\u001b[1;32m   4790\u001b[0m \u001b[38;5;124;03m    Invoke function on values of Series.\u001b[39;00m\n\u001b[1;32m   4791\u001b[0m \n\u001b[0;32m   (...)\u001b[0m\n\u001b[1;32m   4906\u001b[0m \u001b[38;5;124;03m    dtype: float64\u001b[39;00m\n\u001b[1;32m   4907\u001b[0m \u001b[38;5;124;03m    \"\"\"\u001b[39;00m\n\u001b[1;32m   4908\u001b[0m     \u001b[38;5;28;01mreturn\u001b[39;00m \u001b[43mSeriesApply\u001b[49m\u001b[43m(\u001b[49m\n\u001b[1;32m   4909\u001b[0m \u001b[43m        \u001b[49m\u001b[38;5;28;43mself\u001b[39;49m\u001b[43m,\u001b[49m\n\u001b[1;32m   4910\u001b[0m \u001b[43m        \u001b[49m\u001b[43mfunc\u001b[49m\u001b[43m,\u001b[49m\n\u001b[1;32m   4911\u001b[0m \u001b[43m        \u001b[49m\u001b[43mconvert_dtype\u001b[49m\u001b[38;5;241;43m=\u001b[39;49m\u001b[43mconvert_dtype\u001b[49m\u001b[43m,\u001b[49m\n\u001b[1;32m   4912\u001b[0m \u001b[43m        \u001b[49m\u001b[43mby_row\u001b[49m\u001b[38;5;241;43m=\u001b[39;49m\u001b[43mby_row\u001b[49m\u001b[43m,\u001b[49m\n\u001b[1;32m   4913\u001b[0m \u001b[43m        \u001b[49m\u001b[43margs\u001b[49m\u001b[38;5;241;43m=\u001b[39;49m\u001b[43margs\u001b[49m\u001b[43m,\u001b[49m\n\u001b[1;32m   4914\u001b[0m \u001b[43m        \u001b[49m\u001b[43mkwargs\u001b[49m\u001b[38;5;241;43m=\u001b[39;49m\u001b[43mkwargs\u001b[49m\u001b[43m,\u001b[49m\n\u001b[0;32m-> 4915\u001b[0m \u001b[43m    \u001b[49m\u001b[43m)\u001b[49m\u001b[38;5;241;43m.\u001b[39;49m\u001b[43mapply\u001b[49m\u001b[43m(\u001b[49m\u001b[43m)\u001b[49m\n",
      "File \u001b[0;32m/opt/conda/lib/python3.11/site-packages/pandas/core/apply.py:1427\u001b[0m, in \u001b[0;36mSeriesApply.apply\u001b[0;34m(self)\u001b[0m\n\u001b[1;32m   1424\u001b[0m     \u001b[38;5;28;01mreturn\u001b[39;00m \u001b[38;5;28mself\u001b[39m\u001b[38;5;241m.\u001b[39mapply_compat()\n\u001b[1;32m   1426\u001b[0m \u001b[38;5;66;03m# self.func is Callable\u001b[39;00m\n\u001b[0;32m-> 1427\u001b[0m \u001b[38;5;28;01mreturn\u001b[39;00m \u001b[38;5;28;43mself\u001b[39;49m\u001b[38;5;241;43m.\u001b[39;49m\u001b[43mapply_standard\u001b[49m\u001b[43m(\u001b[49m\u001b[43m)\u001b[49m\n",
      "File \u001b[0;32m/opt/conda/lib/python3.11/site-packages/pandas/core/apply.py:1507\u001b[0m, in \u001b[0;36mSeriesApply.apply_standard\u001b[0;34m(self)\u001b[0m\n\u001b[1;32m   1501\u001b[0m \u001b[38;5;66;03m# row-wise access\u001b[39;00m\n\u001b[1;32m   1502\u001b[0m \u001b[38;5;66;03m# apply doesn't have a `na_action` keyword and for backward compat reasons\u001b[39;00m\n\u001b[1;32m   1503\u001b[0m \u001b[38;5;66;03m# we need to give `na_action=\"ignore\"` for categorical data.\u001b[39;00m\n\u001b[1;32m   1504\u001b[0m \u001b[38;5;66;03m# TODO: remove the `na_action=\"ignore\"` when that default has been changed in\u001b[39;00m\n\u001b[1;32m   1505\u001b[0m \u001b[38;5;66;03m#  Categorical (GH51645).\u001b[39;00m\n\u001b[1;32m   1506\u001b[0m action \u001b[38;5;241m=\u001b[39m \u001b[38;5;124m\"\u001b[39m\u001b[38;5;124mignore\u001b[39m\u001b[38;5;124m\"\u001b[39m \u001b[38;5;28;01mif\u001b[39;00m \u001b[38;5;28misinstance\u001b[39m(obj\u001b[38;5;241m.\u001b[39mdtype, CategoricalDtype) \u001b[38;5;28;01melse\u001b[39;00m \u001b[38;5;28;01mNone\u001b[39;00m\n\u001b[0;32m-> 1507\u001b[0m mapped \u001b[38;5;241m=\u001b[39m \u001b[43mobj\u001b[49m\u001b[38;5;241;43m.\u001b[39;49m\u001b[43m_map_values\u001b[49m\u001b[43m(\u001b[49m\n\u001b[1;32m   1508\u001b[0m \u001b[43m    \u001b[49m\u001b[43mmapper\u001b[49m\u001b[38;5;241;43m=\u001b[39;49m\u001b[43mcurried\u001b[49m\u001b[43m,\u001b[49m\u001b[43m \u001b[49m\u001b[43mna_action\u001b[49m\u001b[38;5;241;43m=\u001b[39;49m\u001b[43maction\u001b[49m\u001b[43m,\u001b[49m\u001b[43m \u001b[49m\u001b[43mconvert\u001b[49m\u001b[38;5;241;43m=\u001b[39;49m\u001b[38;5;28;43mself\u001b[39;49m\u001b[38;5;241;43m.\u001b[39;49m\u001b[43mconvert_dtype\u001b[49m\n\u001b[1;32m   1509\u001b[0m \u001b[43m\u001b[49m\u001b[43m)\u001b[49m\n\u001b[1;32m   1511\u001b[0m \u001b[38;5;28;01mif\u001b[39;00m \u001b[38;5;28mlen\u001b[39m(mapped) \u001b[38;5;129;01mand\u001b[39;00m \u001b[38;5;28misinstance\u001b[39m(mapped[\u001b[38;5;241m0\u001b[39m], ABCSeries):\n\u001b[1;32m   1512\u001b[0m     \u001b[38;5;66;03m# GH#43986 Need to do list(mapped) in order to get treated as nested\u001b[39;00m\n\u001b[1;32m   1513\u001b[0m     \u001b[38;5;66;03m#  See also GH#25959 regarding EA support\u001b[39;00m\n\u001b[1;32m   1514\u001b[0m     \u001b[38;5;28;01mreturn\u001b[39;00m obj\u001b[38;5;241m.\u001b[39m_constructor_expanddim(\u001b[38;5;28mlist\u001b[39m(mapped), index\u001b[38;5;241m=\u001b[39mobj\u001b[38;5;241m.\u001b[39mindex)\n",
      "File \u001b[0;32m/opt/conda/lib/python3.11/site-packages/pandas/core/base.py:921\u001b[0m, in \u001b[0;36mIndexOpsMixin._map_values\u001b[0;34m(self, mapper, na_action, convert)\u001b[0m\n\u001b[1;32m    918\u001b[0m \u001b[38;5;28;01mif\u001b[39;00m \u001b[38;5;28misinstance\u001b[39m(arr, ExtensionArray):\n\u001b[1;32m    919\u001b[0m     \u001b[38;5;28;01mreturn\u001b[39;00m arr\u001b[38;5;241m.\u001b[39mmap(mapper, na_action\u001b[38;5;241m=\u001b[39mna_action)\n\u001b[0;32m--> 921\u001b[0m \u001b[38;5;28;01mreturn\u001b[39;00m \u001b[43malgorithms\u001b[49m\u001b[38;5;241;43m.\u001b[39;49m\u001b[43mmap_array\u001b[49m\u001b[43m(\u001b[49m\u001b[43marr\u001b[49m\u001b[43m,\u001b[49m\u001b[43m \u001b[49m\u001b[43mmapper\u001b[49m\u001b[43m,\u001b[49m\u001b[43m \u001b[49m\u001b[43mna_action\u001b[49m\u001b[38;5;241;43m=\u001b[39;49m\u001b[43mna_action\u001b[49m\u001b[43m,\u001b[49m\u001b[43m \u001b[49m\u001b[43mconvert\u001b[49m\u001b[38;5;241;43m=\u001b[39;49m\u001b[43mconvert\u001b[49m\u001b[43m)\u001b[49m\n",
      "File \u001b[0;32m/opt/conda/lib/python3.11/site-packages/pandas/core/algorithms.py:1743\u001b[0m, in \u001b[0;36mmap_array\u001b[0;34m(arr, mapper, na_action, convert)\u001b[0m\n\u001b[1;32m   1741\u001b[0m values \u001b[38;5;241m=\u001b[39m arr\u001b[38;5;241m.\u001b[39mastype(\u001b[38;5;28mobject\u001b[39m, copy\u001b[38;5;241m=\u001b[39m\u001b[38;5;28;01mFalse\u001b[39;00m)\n\u001b[1;32m   1742\u001b[0m \u001b[38;5;28;01mif\u001b[39;00m na_action \u001b[38;5;129;01mis\u001b[39;00m \u001b[38;5;28;01mNone\u001b[39;00m:\n\u001b[0;32m-> 1743\u001b[0m     \u001b[38;5;28;01mreturn\u001b[39;00m \u001b[43mlib\u001b[49m\u001b[38;5;241;43m.\u001b[39;49m\u001b[43mmap_infer\u001b[49m\u001b[43m(\u001b[49m\u001b[43mvalues\u001b[49m\u001b[43m,\u001b[49m\u001b[43m \u001b[49m\u001b[43mmapper\u001b[49m\u001b[43m,\u001b[49m\u001b[43m \u001b[49m\u001b[43mconvert\u001b[49m\u001b[38;5;241;43m=\u001b[39;49m\u001b[43mconvert\u001b[49m\u001b[43m)\u001b[49m\n\u001b[1;32m   1744\u001b[0m \u001b[38;5;28;01melse\u001b[39;00m:\n\u001b[1;32m   1745\u001b[0m     \u001b[38;5;28;01mreturn\u001b[39;00m lib\u001b[38;5;241m.\u001b[39mmap_infer_mask(\n\u001b[1;32m   1746\u001b[0m         values, mapper, mask\u001b[38;5;241m=\u001b[39misna(values)\u001b[38;5;241m.\u001b[39mview(np\u001b[38;5;241m.\u001b[39muint8), convert\u001b[38;5;241m=\u001b[39mconvert\n\u001b[1;32m   1747\u001b[0m     )\n",
      "File \u001b[0;32mlib.pyx:2972\u001b[0m, in \u001b[0;36mpandas._libs.lib.map_infer\u001b[0;34m()\u001b[0m\n",
      "Cell \u001b[0;32mIn[11], line 38\u001b[0m, in \u001b[0;36mcolid_apply\u001b[0;34m(x)\u001b[0m\n\u001b[1;32m     37\u001b[0m \u001b[38;5;28;01mdef\u001b[39;00m \u001b[38;5;21mcolid_apply\u001b[39m(x):\n\u001b[0;32m---> 38\u001b[0m     \u001b[38;5;28;01mreturn\u001b[39;00m \u001b[38;5;124m\"\u001b[39m\u001b[38;5;124m|\u001b[39m\u001b[38;5;124m\"\u001b[39m\u001b[38;5;241m.\u001b[39mjoin([\u001b[38;5;28mstr\u001b[39m(i) \u001b[38;5;28;01mfor\u001b[39;00m i \u001b[38;5;129;01min\u001b[39;00m \u001b[38;5;28mset\u001b[39m(\u001b[43m[\u001b[49m\u001b[43mget_id\u001b[49m\u001b[43m(\u001b[49m\u001b[38;5;28;43mint\u001b[39;49m\u001b[43m(\u001b[49m\u001b[43mi\u001b[49m\u001b[43m)\u001b[49m\u001b[43m)\u001b[49m\u001b[43m \u001b[49m\u001b[38;5;28;43;01mfor\u001b[39;49;00m\u001b[43m \u001b[49m\u001b[43mi\u001b[49m\u001b[43m \u001b[49m\u001b[38;5;129;43;01min\u001b[39;49;00m\u001b[43m \u001b[49m\u001b[43mx\u001b[49m\u001b[38;5;241;43m.\u001b[39;49m\u001b[43msplit\u001b[49m\u001b[43m(\u001b[49m\u001b[38;5;124;43m'\u001b[39;49m\u001b[38;5;124;43m|\u001b[39;49m\u001b[38;5;124;43m'\u001b[39;49m\u001b[43m)\u001b[49m\u001b[43m]\u001b[49m)])\n",
      "Cell \u001b[0;32mIn[11], line 38\u001b[0m, in \u001b[0;36m<listcomp>\u001b[0;34m(.0)\u001b[0m\n\u001b[1;32m     37\u001b[0m \u001b[38;5;28;01mdef\u001b[39;00m \u001b[38;5;21mcolid_apply\u001b[39m(x):\n\u001b[0;32m---> 38\u001b[0m     \u001b[38;5;28;01mreturn\u001b[39;00m \u001b[38;5;124m\"\u001b[39m\u001b[38;5;124m|\u001b[39m\u001b[38;5;124m\"\u001b[39m\u001b[38;5;241m.\u001b[39mjoin([\u001b[38;5;28mstr\u001b[39m(i) \u001b[38;5;28;01mfor\u001b[39;00m i \u001b[38;5;129;01min\u001b[39;00m \u001b[38;5;28mset\u001b[39m([get_id(\u001b[38;5;28;43mint\u001b[39;49m\u001b[43m(\u001b[49m\u001b[43mi\u001b[49m\u001b[43m)\u001b[49m) \u001b[38;5;28;01mfor\u001b[39;00m i \u001b[38;5;129;01min\u001b[39;00m x\u001b[38;5;241m.\u001b[39msplit(\u001b[38;5;124m'\u001b[39m\u001b[38;5;124m|\u001b[39m\u001b[38;5;124m'\u001b[39m)])])\n",
      "\u001b[0;31mValueError\u001b[0m: invalid literal for int() with base 10: '{'"
     ]
    }
   ],
   "source": [
    "import pandas as pd\n",
    "import networkx as nx\n",
    "import matplotlib.pyplot as plt\n",
    "\n",
    "\n",
    "for name_test in ['intersects', 'covers', 'within', 'touches', 'geom_equals_exact']:\n",
    "\n",
    "    # Carregar dados do CSV\n",
    "    df = colides_all[['index','file',name_test]]\n",
    "    \n",
    "    # Criar um grafo direcionado\n",
    "    new = {i:{'id':x} for x,i in enumerate(df['file'].unique())}\n",
    "    \n",
    "    for name in new:\n",
    "        try:\n",
    "            new[name]['indexs'] = list(df.set_index('file').loc[name]['index'])\n",
    "        except:\n",
    "            logger.exception('')\n",
    "            \n",
    "    df = df.dropna(subset=[name_test])     \n",
    "\n",
    "    def get_id(index):\n",
    "        for name in new:\n",
    "            try:\n",
    "                if index in new[name]['indexs']:\n",
    "                    return new[name]['id']\n",
    "            except:\n",
    "                logger.exception(index)\n",
    "                return -1\n",
    "    def get_name_id(index):\n",
    "        for name in new:\n",
    "            if index == new[name]['id']:\n",
    "                return name.split('/')[0]\n",
    "\n",
    "\n",
    "\n",
    "    def colid_apply(x):\n",
    "        return \"|\".join([str(i) for i in set([get_id(int(i)) for i in x.split('|')])])\n",
    "\n",
    "    df[name_test] = df[name_test].apply(colid_apply)\n",
    "    df['id'] = df['file'].apply(lambda x: new[x]['id'])\n",
    "    df = df[['file', name_test, 'id']].drop_duplicates()\n",
    "    G = nx.DiGraph()\n",
    "\n",
    "    # Adicionar nós ao grafo\n",
    "    for name in new:\n",
    "        G.add_node(name.split('/')[0], name=name.split('/')[0])\n",
    "\n",
    "    # Adicionar arestas ao grafo\n",
    "    for _, row in df.iterrows():\n",
    "        insiders = [get_name_id(int(x)) for x in row[name_test].split('|')]\n",
    "        for insider in insiders:\n",
    "            G.add_edge(str(row['file']).split('/')[0] , insider)\n",
    "\n",
    "    # Desenhar o grafo\n",
    "\n",
    "    plt.figure(figsize=(20, 20))\n",
    "    plt.title(name_test)\n",
    "    \n",
    "    pos = nx.shell_layout(G)  # Posições dos nós\n",
    "    nx.draw(G, pos, with_labels=True, node_size=800, node_color='skyblue', font_size=16, font_weight='bold')\n",
    "    plt.savefig(f\"{name_test}.png\")\n",
    "    nx.write_gexf(G, \"test.gexf\")\n",
    "    plt.show()"
   ]
  },
  {
   "cell_type": "code",
   "execution_count": null,
   "id": "0fc1d7af-70f0-48b6-b5a4-552d70fba444",
   "metadata": {
    "tags": []
   },
   "outputs": [],
   "source": []
  },
  {
   "cell_type": "code",
   "execution_count": 200,
   "id": "68edb1c3-627e-4f71-a67d-07602242c233",
   "metadata": {
    "tags": []
   },
   "outputs": [],
   "source": []
  },
  {
   "cell_type": "code",
   "execution_count": 201,
   "id": "3eb21c86-ecb7-43b3-9bd7-594536b2a718",
   "metadata": {
    "tags": []
   },
   "outputs": [],
   "source": []
  },
  {
   "cell_type": "code",
   "execution_count": 202,
   "id": "ab63f9d8-899a-49a7-a860-c9721ee4b2e2",
   "metadata": {
    "tags": []
   },
   "outputs": [],
   "source": []
  },
  {
   "cell_type": "code",
   "execution_count": 203,
   "id": "807b9641-2bf0-4dc3-996a-ae07fec00b91",
   "metadata": {
    "tags": []
   },
   "outputs": [
    {
     "data": {
      "text/plain": [
       "'Araticum'"
      ]
     },
     "execution_count": 203,
     "metadata": {},
     "output_type": "execute_result"
    }
   ],
   "source": [
    "get_name_id(0)\n"
   ]
  },
  {
   "cell_type": "code",
   "execution_count": 186,
   "id": "19f58699-bfdf-42a6-9144-91a45ad7be55",
   "metadata": {
    "tags": []
   },
   "outputs": [],
   "source": []
  },
  {
   "cell_type": "code",
   "execution_count": 204,
   "id": "40e794f9-9891-44f9-b131-2d5c293b93c0",
   "metadata": {
    "tags": []
   },
   "outputs": [],
   "source": [
    "\n",
    "['/home/workspace/projetos-orr/orr-cli/orr_cli/template/new_institution/default/0005_materilized_view/ob_create_mv_circle_trangle.sql', \n",
    " '/home/workspace/projetos-orr/orr-cli/orr_cli/template/new_institution/default/0005_materilized_view/ob_create_mv_tamanho.sql', \n",
    " '/home/workspace/projetos-orr/orr-cli/orr_cli/template/new_institution/default/001_creat_features.sql', \n",
    " '/home/workspace/projetos-orr/orr-cli/orr_cli/template/new_institution/default/002_creat_status_features.sql', \n",
    " '/home/workspace/projetos-orr/orr-cli/orr_cli/template/new_institution/default/003_creat_intersection.sql', \n",
    " '/home/workspace/projetos-orr/orr-cli/orr_cli/template/new_institution/default/004_trigger/_default_.sql', \n",
    " '/home/workspace/projetos-orr/orr-cli/orr_cli/template/new_institution/default/004_trigger/ob_is_uniqueness.sql', \n",
    " '/home/workspace/projetos-orr/orr-cli/orr_cli/template/new_institution/default/004_trigger/ob_update_status.sql']"
   ]
  },
  {
   "cell_type": "code",
   "execution_count": 205,
   "id": "ddb2e8f8-a759-4ddc-9a90-60e870c1fea2",
   "metadata": {
    "tags": []
   },
   "outputs": [],
   "source": []
  },
  {
   "cell_type": "code",
   "execution_count": 206,
   "id": "4595f5bf-b095-4759-a058-4d8d2dde0bea",
   "metadata": {
    "tags": []
   },
   "outputs": [],
   "source": []
  },
  {
   "cell_type": "code",
   "execution_count": 208,
   "id": "3eed223c-ecf9-404a-99e9-326c2ea07e45",
   "metadata": {
    "tags": []
   },
   "outputs": [
    {
     "data": {
      "text/html": [
       "<div>\n",
       "<style scoped>\n",
       "    .dataframe tbody tr th:only-of-type {\n",
       "        vertical-align: middle;\n",
       "    }\n",
       "\n",
       "    .dataframe tbody tr th {\n",
       "        vertical-align: top;\n",
       "    }\n",
       "\n",
       "    .dataframe thead th {\n",
       "        text-align: right;\n",
       "    }\n",
       "</style>\n",
       "<table border=\"1\" class=\"dataframe\">\n",
       "  <thead>\n",
       "    <tr style=\"text-align: right;\">\n",
       "      <th></th>\n",
       "      <th>file</th>\n",
       "      <th>geom_equals_exact</th>\n",
       "      <th>id</th>\n",
       "    </tr>\n",
       "  </thead>\n",
       "  <tbody>\n",
       "    <tr>\n",
       "      <th>130</th>\n",
       "      <td>Araticum/Araticum_ORR.shp</td>\n",
       "      <td>0</td>\n",
       "      <td>0</td>\n",
       "    </tr>\n",
       "    <tr>\n",
       "      <th>472</th>\n",
       "      <td>BrCarbon/Pratigi_Pai1_ORR.shp</td>\n",
       "      <td>16</td>\n",
       "      <td>1</td>\n",
       "    </tr>\n",
       "    <tr>\n",
       "      <th>528</th>\n",
       "      <td>BrCarbon/Pratigi_Pai2_ORR.shp</td>\n",
       "      <td>16</td>\n",
       "      <td>2</td>\n",
       "    </tr>\n",
       "    <tr>\n",
       "      <th>689</th>\n",
       "      <td>CEVP/Restauracao_CEVP.shp</td>\n",
       "      <td>16</td>\n",
       "      <td>3</td>\n",
       "    </tr>\n",
       "    <tr>\n",
       "      <th>2670</th>\n",
       "      <td>ORR_area_regreen/MA_PAI_001.shp</td>\n",
       "      <td>16</td>\n",
       "      <td>4</td>\n",
       "    </tr>\n",
       "    <tr>\n",
       "      <th>2795</th>\n",
       "      <td>ORR_area_regreen/MA_PAI_002.shp</td>\n",
       "      <td>16</td>\n",
       "      <td>5</td>\n",
       "    </tr>\n",
       "    <tr>\n",
       "      <th>2988</th>\n",
       "      <td>Projetos Kanindé (Revisar ORR)/Dados recebidos...</td>\n",
       "      <td>7</td>\n",
       "      <td>6</td>\n",
       "    </tr>\n",
       "    <tr>\n",
       "      <th>2996</th>\n",
       "      <td>Projetos Kanindé (Revisar ORR)/Final/AGF Kanin...</td>\n",
       "      <td>6</td>\n",
       "      <td>7</td>\n",
       "    </tr>\n",
       "    <tr>\n",
       "      <th>3003</th>\n",
       "      <td>Reflorestar/Programa Reflorestar/Bacia do Doce...</td>\n",
       "      <td>16|10</td>\n",
       "      <td>8</td>\n",
       "    </tr>\n",
       "    <tr>\n",
       "      <th>3004</th>\n",
       "      <td>Reflorestar/Programa Reflorestar/Bacia do Doce...</td>\n",
       "      <td>16|9|10</td>\n",
       "      <td>8</td>\n",
       "    </tr>\n",
       "    <tr>\n",
       "      <th>6069</th>\n",
       "      <td>Reflorestar/Programa Reflorestar/Extenção Ambi...</td>\n",
       "      <td>16|8|10</td>\n",
       "      <td>9</td>\n",
       "    </tr>\n",
       "    <tr>\n",
       "      <th>6117</th>\n",
       "      <td>Reflorestar/Programa Reflorestar/Extenção Ambi...</td>\n",
       "      <td>16</td>\n",
       "      <td>9</td>\n",
       "    </tr>\n",
       "    <tr>\n",
       "      <th>7264</th>\n",
       "      <td>Reflorestar/Reflorestar_shapefile/main_reflore...</td>\n",
       "      <td>16</td>\n",
       "      <td>10</td>\n",
       "    </tr>\n",
       "    <tr>\n",
       "      <th>7272</th>\n",
       "      <td>Reflorestar/Reflorestar_shapefile/main_reflore...</td>\n",
       "      <td>16|8</td>\n",
       "      <td>10</td>\n",
       "    </tr>\n",
       "    <tr>\n",
       "      <th>7274</th>\n",
       "      <td>Reflorestar/Reflorestar_shapefile/main_reflore...</td>\n",
       "      <td>8|16</td>\n",
       "      <td>10</td>\n",
       "    </tr>\n",
       "    <tr>\n",
       "      <th>12292</th>\n",
       "      <td>Reflorestar/Reflorestar_shapefile/main_reflore...</td>\n",
       "      <td>16|9|8</td>\n",
       "      <td>10</td>\n",
       "    </tr>\n",
       "    <tr>\n",
       "      <th>18576</th>\n",
       "      <td>SARE (REVISAR)/SARE_SHAPEFILE/Sare_Sirgas.shp</td>\n",
       "      <td>16</td>\n",
       "      <td>11</td>\n",
       "    </tr>\n",
       "    <tr>\n",
       "      <th>18578</th>\n",
       "      <td>SARE (REVISAR)/SARE_SHAPEFILE/Sare_Sirgas.shp</td>\n",
       "      <td>16|12</td>\n",
       "      <td>11</td>\n",
       "    </tr>\n",
       "    <tr>\n",
       "      <th>18619</th>\n",
       "      <td>SARE (REVISAR)/SARE_SHAPEFILE/Sare_Sirgas.shp</td>\n",
       "      <td>12</td>\n",
       "      <td>11</td>\n",
       "    </tr>\n",
       "    <tr>\n",
       "      <th>20851</th>\n",
       "      <td>SARE (REVISAR)/SARE_SHAPEFILE/Sare_Sirgas.shp</td>\n",
       "      <td>16|11|12</td>\n",
       "      <td>11</td>\n",
       "    </tr>\n",
       "    <tr>\n",
       "      <th>23087</th>\n",
       "      <td>SARE (REVISAR)/SARE_SHAPEFILE/Sare_Sirgas.shp</td>\n",
       "      <td>16|11</td>\n",
       "      <td>11</td>\n",
       "    </tr>\n",
       "    <tr>\n",
       "      <th>23168</th>\n",
       "      <td>SARE (REVISAR)/sare.gpkg</td>\n",
       "      <td>16|11</td>\n",
       "      <td>12</td>\n",
       "    </tr>\n",
       "    <tr>\n",
       "      <th>23213</th>\n",
       "      <td>SARE (REVISAR)/sare.gpkg</td>\n",
       "      <td>11</td>\n",
       "      <td>12</td>\n",
       "    </tr>\n",
       "    <tr>\n",
       "      <th>25445</th>\n",
       "      <td>SARE (REVISAR)/sare.gpkg</td>\n",
       "      <td>16|11|12</td>\n",
       "      <td>12</td>\n",
       "    </tr>\n",
       "    <tr>\n",
       "      <th>27676</th>\n",
       "      <td>SARE (REVISAR)/sare.gpkg</td>\n",
       "      <td>12</td>\n",
       "      <td>12</td>\n",
       "    </tr>\n",
       "    <tr>\n",
       "      <th>28110</th>\n",
       "      <td>TNC/Araucária e Serra do Mar/Araucária e Serra...</td>\n",
       "      <td>16</td>\n",
       "      <td>13</td>\n",
       "    </tr>\n",
       "    <tr>\n",
       "      <th>29648</th>\n",
       "      <td>TNC/Coalizão Cidades pelas Águas/Coalizão Cida...</td>\n",
       "      <td>16</td>\n",
       "      <td>14</td>\n",
       "    </tr>\n",
       "    <tr>\n",
       "      <th>29933</th>\n",
       "      <td>TNC/Conservador da Mantiqueira/Conservador da ...</td>\n",
       "      <td>16</td>\n",
       "      <td>15</td>\n",
       "    </tr>\n",
       "    <tr>\n",
       "      <th>30589</th>\n",
       "      <td>pacto_organizado/AREAS_RESTAURACAO_PACTO_24012...</td>\n",
       "      <td>16</td>\n",
       "      <td>16</td>\n",
       "    </tr>\n",
       "    <tr>\n",
       "      <th>30899</th>\n",
       "      <td>pacto_organizado/AREAS_RESTAURACAO_PACTO_24012...</td>\n",
       "      <td>11|12</td>\n",
       "      <td>16</td>\n",
       "    </tr>\n",
       "    <tr>\n",
       "      <th>30901</th>\n",
       "      <td>pacto_organizado/AREAS_RESTAURACAO_PACTO_24012...</td>\n",
       "      <td>11</td>\n",
       "      <td>16</td>\n",
       "    </tr>\n",
       "    <tr>\n",
       "      <th>32884</th>\n",
       "      <td>pacto_organizado/AREAS_RESTAURACAO_PACTO_24012...</td>\n",
       "      <td>16|11|12</td>\n",
       "      <td>16</td>\n",
       "    </tr>\n",
       "    <tr>\n",
       "      <th>34819</th>\n",
       "      <td>pacto_organizado/AREAS_RESTAURACAO_PACTO_24012...</td>\n",
       "      <td>16|11</td>\n",
       "      <td>16</td>\n",
       "    </tr>\n",
       "    <tr>\n",
       "      <th>34903</th>\n",
       "      <td>pacto_organizado/AREAS_RESTAURACAO_PACTO_24012...</td>\n",
       "      <td>13</td>\n",
       "      <td>16</td>\n",
       "    </tr>\n",
       "    <tr>\n",
       "      <th>36445</th>\n",
       "      <td>pacto_organizado/AREAS_RESTAURACAO_PACTO_24012...</td>\n",
       "      <td>14</td>\n",
       "      <td>16</td>\n",
       "    </tr>\n",
       "    <tr>\n",
       "      <th>36728</th>\n",
       "      <td>pacto_organizado/AREAS_RESTAURACAO_PACTO_24012...</td>\n",
       "      <td>15</td>\n",
       "      <td>16</td>\n",
       "    </tr>\n",
       "    <tr>\n",
       "      <th>37126</th>\n",
       "      <td>pacto_organizado/AREAS_RESTAURACAO_PACTO_24012...</td>\n",
       "      <td>3</td>\n",
       "      <td>16</td>\n",
       "    </tr>\n",
       "    <tr>\n",
       "      <th>41815</th>\n",
       "      <td>pacto_organizado/AREAS_RESTAURACAO_PACTO_24012...</td>\n",
       "      <td>9</td>\n",
       "      <td>16</td>\n",
       "    </tr>\n",
       "    <tr>\n",
       "      <th>42367</th>\n",
       "      <td>pacto_organizado/AREAS_RESTAURACAO_PACTO_24012...</td>\n",
       "      <td>1</td>\n",
       "      <td>16</td>\n",
       "    </tr>\n",
       "    <tr>\n",
       "      <th>42421</th>\n",
       "      <td>pacto_organizado/AREAS_RESTAURACAO_PACTO_24012...</td>\n",
       "      <td>2</td>\n",
       "      <td>16</td>\n",
       "    </tr>\n",
       "    <tr>\n",
       "      <th>43618</th>\n",
       "      <td>pacto_organizado/AREAS_RESTAURACAO_PACTO_24012...</td>\n",
       "      <td>5</td>\n",
       "      <td>16</td>\n",
       "    </tr>\n",
       "    <tr>\n",
       "      <th>43809</th>\n",
       "      <td>pacto_organizado/AREAS_RESTAURACAO_PACTO_24012...</td>\n",
       "      <td>4</td>\n",
       "      <td>16</td>\n",
       "    </tr>\n",
       "    <tr>\n",
       "      <th>43941</th>\n",
       "      <td>pacto_organizado/AREAS_RESTAURACAO_PACTO_24012...</td>\n",
       "      <td>10</td>\n",
       "      <td>16</td>\n",
       "    </tr>\n",
       "    <tr>\n",
       "      <th>43950</th>\n",
       "      <td>pacto_organizado/AREAS_RESTAURACAO_PACTO_24012...</td>\n",
       "      <td>8|10</td>\n",
       "      <td>16</td>\n",
       "    </tr>\n",
       "    <tr>\n",
       "      <th>48968</th>\n",
       "      <td>pacto_organizado/AREAS_RESTAURACAO_PACTO_24012...</td>\n",
       "      <td>8|9|10</td>\n",
       "      <td>16</td>\n",
       "    </tr>\n",
       "  </tbody>\n",
       "</table>\n",
       "</div>"
      ],
      "text/plain": [
       "                                                    file geom_equals_exact  id\n",
       "130                            Araticum/Araticum_ORR.shp                 0   0\n",
       "472                        BrCarbon/Pratigi_Pai1_ORR.shp                16   1\n",
       "528                        BrCarbon/Pratigi_Pai2_ORR.shp                16   2\n",
       "689                            CEVP/Restauracao_CEVP.shp                16   3\n",
       "2670                     ORR_area_regreen/MA_PAI_001.shp                16   4\n",
       "2795                     ORR_area_regreen/MA_PAI_002.shp                16   5\n",
       "2988   Projetos Kanindé (Revisar ORR)/Dados recebidos...                 7   6\n",
       "2996   Projetos Kanindé (Revisar ORR)/Final/AGF Kanin...                 6   7\n",
       "3003   Reflorestar/Programa Reflorestar/Bacia do Doce...             16|10   8\n",
       "3004   Reflorestar/Programa Reflorestar/Bacia do Doce...           16|9|10   8\n",
       "6069   Reflorestar/Programa Reflorestar/Extenção Ambi...           16|8|10   9\n",
       "6117   Reflorestar/Programa Reflorestar/Extenção Ambi...                16   9\n",
       "7264   Reflorestar/Reflorestar_shapefile/main_reflore...                16  10\n",
       "7272   Reflorestar/Reflorestar_shapefile/main_reflore...              16|8  10\n",
       "7274   Reflorestar/Reflorestar_shapefile/main_reflore...              8|16  10\n",
       "12292  Reflorestar/Reflorestar_shapefile/main_reflore...            16|9|8  10\n",
       "18576      SARE (REVISAR)/SARE_SHAPEFILE/Sare_Sirgas.shp                16  11\n",
       "18578      SARE (REVISAR)/SARE_SHAPEFILE/Sare_Sirgas.shp             16|12  11\n",
       "18619      SARE (REVISAR)/SARE_SHAPEFILE/Sare_Sirgas.shp                12  11\n",
       "20851      SARE (REVISAR)/SARE_SHAPEFILE/Sare_Sirgas.shp          16|11|12  11\n",
       "23087      SARE (REVISAR)/SARE_SHAPEFILE/Sare_Sirgas.shp             16|11  11\n",
       "23168                           SARE (REVISAR)/sare.gpkg             16|11  12\n",
       "23213                           SARE (REVISAR)/sare.gpkg                11  12\n",
       "25445                           SARE (REVISAR)/sare.gpkg          16|11|12  12\n",
       "27676                           SARE (REVISAR)/sare.gpkg                12  12\n",
       "28110  TNC/Araucária e Serra do Mar/Araucária e Serra...                16  13\n",
       "29648  TNC/Coalizão Cidades pelas Águas/Coalizão Cida...                16  14\n",
       "29933  TNC/Conservador da Mantiqueira/Conservador da ...                16  15\n",
       "30589  pacto_organizado/AREAS_RESTAURACAO_PACTO_24012...                16  16\n",
       "30899  pacto_organizado/AREAS_RESTAURACAO_PACTO_24012...             11|12  16\n",
       "30901  pacto_organizado/AREAS_RESTAURACAO_PACTO_24012...                11  16\n",
       "32884  pacto_organizado/AREAS_RESTAURACAO_PACTO_24012...          16|11|12  16\n",
       "34819  pacto_organizado/AREAS_RESTAURACAO_PACTO_24012...             16|11  16\n",
       "34903  pacto_organizado/AREAS_RESTAURACAO_PACTO_24012...                13  16\n",
       "36445  pacto_organizado/AREAS_RESTAURACAO_PACTO_24012...                14  16\n",
       "36728  pacto_organizado/AREAS_RESTAURACAO_PACTO_24012...                15  16\n",
       "37126  pacto_organizado/AREAS_RESTAURACAO_PACTO_24012...                 3  16\n",
       "41815  pacto_organizado/AREAS_RESTAURACAO_PACTO_24012...                 9  16\n",
       "42367  pacto_organizado/AREAS_RESTAURACAO_PACTO_24012...                 1  16\n",
       "42421  pacto_organizado/AREAS_RESTAURACAO_PACTO_24012...                 2  16\n",
       "43618  pacto_organizado/AREAS_RESTAURACAO_PACTO_24012...                 5  16\n",
       "43809  pacto_organizado/AREAS_RESTAURACAO_PACTO_24012...                 4  16\n",
       "43941  pacto_organizado/AREAS_RESTAURACAO_PACTO_24012...                10  16\n",
       "43950  pacto_organizado/AREAS_RESTAURACAO_PACTO_24012...              8|10  16\n",
       "48968  pacto_organizado/AREAS_RESTAURACAO_PACTO_24012...            8|9|10  16"
      ]
     },
     "execution_count": 208,
     "metadata": {},
     "output_type": "execute_result"
    }
   ],
   "source": [
    "df"
   ]
  },
  {
   "cell_type": "code",
   "execution_count": 211,
   "id": "f63935a1-2406-4903-931e-e0f55aec2ea4",
   "metadata": {
    "tags": []
   },
   "outputs": [
    {
     "data": {
      "image/png": "[encoded data removed]",
      "text/plain": [
       "<Figure size 2000x2000 with 1 Axes>"
      ]
     },
     "metadata": {},
     "output_type": "display_data"
    }
   ],
   "source": []
  },
  {
   "cell_type": "code",
   "execution_count": null,
   "id": "d8b9eea5-0bdf-42ce-be0c-04d105f26585",
   "metadata": {
    "tags": []
   },
   "outputs": [],
   "source": [
    "for name in new.copy():\n",
    "    _new[name]['indexs'] = set([get_id(i) for i in _new[name]['indexs']])"
   ]
  },
  {
   "cell_type": "code",
   "execution_count": 113,
   "id": "6a2e896a-50eb-4dc8-809d-6b8d381162da",
   "metadata": {
    "tags": []
   },
   "outputs": [
    {
     "data": {
      "text/plain": [
       "{'Araticum/Araticum_ORR.shp': {'id': 0, 'indexs': {0}},\n",
       " 'BrCarbon/Pratigi_Pai1_ORR.shp': {'id': 1, 'indexs': {1}},\n",
       " 'BrCarbon/Pratigi_Pai2_ORR.shp': {'id': 2, 'indexs': {2}},\n",
       " 'CEVP/Restauracao_CEVP.shp': {'id': 3, 'indexs': {3}},\n",
       " 'ORR_area_regreen/MA_PAI_001.shp': {'id': 4, 'indexs': {4}},\n",
       " 'ORR_area_regreen/MA_PAI_002.shp': {'id': 5, 'indexs': {5}},\n",
       " 'Projetos Kanindé (Revisar ORR)/Dados recebidos/INICIATIVAS_EXECUTADAS_PELA_AGROFLORA.shp': {'id': 6,\n",
       "  'indexs': {6}},\n",
       " 'Projetos Kanindé (Revisar ORR)/Final/AGF Kaninde pol final.shp': {'id': 7,\n",
       "  'indexs': {7}},\n",
       " 'Reflorestar/Programa Reflorestar/Bacia do Doce.zip': {'id': 8,\n",
       "  'indexs': {8}},\n",
       " 'Reflorestar/Programa Reflorestar/Extenção Ambiental.zip': {'id': 9,\n",
       "  'indexs': {9}},\n",
       " 'Reflorestar/Reflorestar_shapefile/main_reflorestar_2021_revisado.shp': {'id': 10,\n",
       "  'indexs': {10}},\n",
       " 'SARE (REVISAR)/SARE_SHAPEFILE/Sare_Sirgas.shp': {'id': 11, 'indexs': {11}},\n",
       " 'SARE (REVISAR)/sare.gpkg': {'id': 12, 'indexs': {12}},\n",
       " 'TNC/Araucária e Serra do Mar/Araucária e Serra do Mar.zip': {'id': 13,\n",
       "  'indexs': {13}},\n",
       " 'TNC/Coalizão Cidades pelas Águas/Coalizão Cidades pelas Águas.zip': {'id': 14,\n",
       "  'indexs': {14}},\n",
       " 'TNC/Conservador da Mantiqueira/Conservador da Mantiqueira.zip': {'id': 15,\n",
       "  'indexs': {15}},\n",
       " 'pacto_organizado/AREAS_RESTAURACAO_PACTO_240124.shp': {'id': 16,\n",
       "  'indexs': {16}}}"
      ]
     },
     "execution_count": 113,
     "metadata": {},
     "output_type": "execute_result"
    }
   ],
   "source": [
    "_new"
   ]
  }
 ],
 "metadata": {
  "kernelspec": {
   "display_name": "Python 3 (ipykernel)",
   "language": "python",
   "name": "python3"
  },
  "language_info": {
   "codemirror_mode": {
    "name": "ipython",
    "version": 3
   },
   "file_extension": ".py",
   "mimetype": "text/x-python",
   "name": "python",
   "nbconvert_exporter": "python",
   "pygments_lexer": "ipython3",
   "version": "3.12.8"
  }
 },
 "nbformat": 4,
 "nbformat_minor": 5
}
